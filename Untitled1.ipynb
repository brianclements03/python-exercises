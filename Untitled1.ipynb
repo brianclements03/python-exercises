{
 "cells": [
  {
   "cell_type": "code",
   "execution_count": 1,
   "id": "691cc481",
   "metadata": {},
   "outputs": [
    {
     "data": {
      "text/plain": [
       "bool"
      ]
     },
     "execution_count": 1,
     "metadata": {},
     "output_type": "execute_result"
    }
   ],
   "source": [
    "type(True)"
   ]
  },
  {
   "cell_type": "code",
   "execution_count": 2,
   "id": "5723a2f2",
   "metadata": {},
   "outputs": [
    {
     "ename": "NameError",
     "evalue": "name 'true' is not defined",
     "output_type": "error",
     "traceback": [
      "\u001b[0;31m---------------------------------------------------------------------------\u001b[0m",
      "\u001b[0;31mNameError\u001b[0m                                 Traceback (most recent call last)",
      "\u001b[0;32m<ipython-input-2-6f4d8242c3d0>\u001b[0m in \u001b[0;36m<module>\u001b[0;34m\u001b[0m\n\u001b[0;32m----> 1\u001b[0;31m \u001b[0mtype\u001b[0m\u001b[0;34m(\u001b[0m\u001b[0mtrue\u001b[0m\u001b[0;34m)\u001b[0m\u001b[0;34m\u001b[0m\u001b[0;34m\u001b[0m\u001b[0m\n\u001b[0m",
      "\u001b[0;31mNameError\u001b[0m: name 'true' is not defined"
     ]
    }
   ],
   "source": [
    "type(true)"
   ]
  },
  {
   "cell_type": "markdown",
   "id": "f17d38b9",
   "metadata": {},
   "source": [
    "[1,2,3]\n"
   ]
  },
  {
   "cell_type": "code",
   "execution_count": 3,
   "id": "4bb18e91",
   "metadata": {},
   "outputs": [
    {
     "data": {
      "text/plain": [
       "list"
      ]
     },
     "execution_count": 3,
     "metadata": {},
     "output_type": "execute_result"
    }
   ],
   "source": [
    "type([1,2,3])"
   ]
  },
  {
   "cell_type": "code",
   "execution_count": 4,
   "id": "265c4b3e",
   "metadata": {},
   "outputs": [
    {
     "data": {
      "text/plain": [
       "tuple"
      ]
     },
     "execution_count": 4,
     "metadata": {},
     "output_type": "execute_result"
    }
   ],
   "source": [
    "type((1,2,3)) #tuples are lists that are set in stone"
   ]
  },
  {
   "cell_type": "code",
   "execution_count": 7,
   "id": "1b42bc7c",
   "metadata": {},
   "outputs": [
    {
     "data": {
      "text/plain": [
       "NoneType"
      ]
     },
     "execution_count": 7,
     "metadata": {},
     "output_type": "execute_result"
    }
   ],
   "source": [
    "type(None)"
   ]
  },
  {
   "cell_type": "code",
   "execution_count": 8,
   "id": "f38a46ea",
   "metadata": {},
   "outputs": [
    {
     "data": {
      "text/plain": [
       "set"
      ]
     },
     "execution_count": 8,
     "metadata": {},
     "output_type": "execute_result"
    }
   ],
   "source": [
    "type({1,2,3,})"
   ]
  },
  {
   "cell_type": "code",
   "execution_count": 9,
   "id": "a14f063b",
   "metadata": {},
   "outputs": [
    {
     "data": {
      "text/plain": [
       "dict"
      ]
     },
     "execution_count": 9,
     "metadata": {},
     "output_type": "execute_result"
    }
   ],
   "source": [
    "type({'numbers':[1,2,3], 'words': ['one','two','three']})"
   ]
  },
  {
   "cell_type": "markdown",
   "id": "94ce43bd",
   "metadata": {},
   "source": [
    "#VARIABLES"
   ]
  },
  {
   "cell_type": "markdown",
   "id": "0784bc0a",
   "metadata": {},
   "source": [
    "assign values using ="
   ]
  },
  {
   "cell_type": "code",
   "execution_count": 12,
   "id": "4a80c1af",
   "metadata": {},
   "outputs": [
    {
     "name": "stdout",
     "output_type": "stream",
     "text": [
      "October\n",
      "OctoberOctober\n"
     ]
    }
   ],
   "source": [
    "current_month = 'October'\n",
    "print(current_month)\n",
    "print(current_month * 2)"
   ]
  },
  {
   "cell_type": "code",
   "execution_count": 14,
   "id": "19c11614",
   "metadata": {},
   "outputs": [],
   "source": [
    "optimal_scoops_of_ice_cream = 2"
   ]
  },
  {
   "cell_type": "code",
   "execution_count": 15,
   "id": "cb81299c",
   "metadata": {},
   "outputs": [
    {
     "name": "stdout",
     "output_type": "stream",
     "text": [
      "2\n"
     ]
    }
   ],
   "source": [
    "print(optimal_scoops_of_ice_cream)"
   ]
  },
  {
   "cell_type": "code",
   "execution_count": 26,
   "id": "5c03cc4c",
   "metadata": {},
   "outputs": [
    {
     "data": {
      "text/plain": [
       "4"
      ]
     },
     "execution_count": 26,
     "metadata": {},
     "output_type": "execute_result"
    }
   ],
   "source": [
    "optimal_scoops_of_ice_cream + 1 "
   ]
  },
  {
   "cell_type": "code",
   "execution_count": 28,
   "id": "738e8f30",
   "metadata": {},
   "outputs": [
    {
     "data": {
      "text/plain": [
       "3"
      ]
     },
     "execution_count": 28,
     "metadata": {},
     "output_type": "execute_result"
    }
   ],
   "source": [
    "optimal_scoops_of_ice_cream"
   ]
  },
  {
   "cell_type": "markdown",
   "id": "0150b5c7",
   "metadata": {},
   "source": [
    "reassign the value..."
   ]
  },
  {
   "cell_type": "code",
   "execution_count": 39,
   "id": "562ce8b5",
   "metadata": {},
   "outputs": [],
   "source": [
    "optimal_scoops_of_ice_cream = optimal_scoops_of_ice_cream + 1"
   ]
  },
  {
   "cell_type": "code",
   "execution_count": 40,
   "id": "1c0395f8",
   "metadata": {},
   "outputs": [
    {
     "data": {
      "text/plain": [
       "14"
      ]
     },
     "execution_count": 40,
     "metadata": {},
     "output_type": "execute_result"
    }
   ],
   "source": [
    "optimal_scoops_of_ice_cream"
   ]
  },
  {
   "cell_type": "markdown",
   "id": "80e6690c",
   "metadata": {},
   "source": [
    "if we were to go back to a previous line and rerun it (the one where we add 1 to the variable), it lowers it to a later line of code.  it updates the value"
   ]
  },
  {
   "cell_type": "code",
   "execution_count": 41,
   "id": "2401cb39",
   "metadata": {},
   "outputs": [
    {
     "data": {
      "text/plain": [
       "int"
      ]
     },
     "execution_count": 41,
     "metadata": {},
     "output_type": "execute_result"
    }
   ],
   "source": [
    "type(optimal_scoops_of_ice_cream)"
   ]
  },
  {
   "cell_type": "code",
   "execution_count": 42,
   "id": "3e6f312a",
   "metadata": {},
   "outputs": [],
   "source": [
    "optimal_scoops_of_ice_cream = optimal_scoops_of_ice_cream + 0.5"
   ]
  },
  {
   "cell_type": "code",
   "execution_count": 43,
   "id": "87459940",
   "metadata": {},
   "outputs": [
    {
     "name": "stdout",
     "output_type": "stream",
     "text": [
      "14.5\n"
     ]
    }
   ],
   "source": [
    "print(optimal_scoops_of_ice_cream)"
   ]
  },
  {
   "cell_type": "code",
   "execution_count": 44,
   "id": "c874a4dd",
   "metadata": {},
   "outputs": [
    {
     "data": {
      "text/plain": [
       "float"
      ]
     },
     "execution_count": 44,
     "metadata": {},
     "output_type": "execute_result"
    }
   ],
   "source": [
    "type(optimal_scoops_of_ice_cream)"
   ]
  },
  {
   "cell_type": "code",
   "execution_count": 45,
   "id": "14a96dba",
   "metadata": {},
   "outputs": [],
   "source": [
    "optimal_scoops_of_ice_cream = optimal_scoops_of_ice_cream - 0.5"
   ]
  },
  {
   "cell_type": "code",
   "execution_count": 46,
   "id": "8a72b111",
   "metadata": {},
   "outputs": [
    {
     "data": {
      "text/plain": [
       "float"
      ]
     },
     "execution_count": 46,
     "metadata": {},
     "output_type": "execute_result"
    }
   ],
   "source": [
    "type(optimal_scoops_of_ice_cream)"
   ]
  },
  {
   "cell_type": "markdown",
   "id": "fd72da4d",
   "metadata": {},
   "source": [
    "python is great managing turning integers into float, but not vice versa.  can be something to have in mind later"
   ]
  },
  {
   "cell_type": "code",
   "execution_count": 47,
   "id": "bd2ed885",
   "metadata": {},
   "outputs": [],
   "source": [
    "optimal_scoops_of_ice_cream = int(optimal_scoops_of_ice_cream)"
   ]
  },
  {
   "cell_type": "code",
   "execution_count": 48,
   "id": "74304509",
   "metadata": {},
   "outputs": [
    {
     "data": {
      "text/plain": [
       "int"
      ]
     },
     "execution_count": 48,
     "metadata": {},
     "output_type": "execute_result"
    }
   ],
   "source": [
    "type(optimal_scoops_of_ice_cream)"
   ]
  },
  {
   "cell_type": "code",
   "execution_count": 49,
   "id": "a7b0e3fb",
   "metadata": {},
   "outputs": [
    {
     "data": {
      "text/plain": [
       "14"
      ]
     },
     "execution_count": 49,
     "metadata": {},
     "output_type": "execute_result"
    }
   ],
   "source": [
    "optimal_scoops_of_ice_cream"
   ]
  },
  {
   "cell_type": "code",
   "execution_count": 50,
   "id": "d5c740a5",
   "metadata": {},
   "outputs": [],
   "source": [
    "optimal_scoops_of_ice_cream = optimal_scoops_of_ice_cream / 2"
   ]
  },
  {
   "cell_type": "code",
   "execution_count": 51,
   "id": "81a46c74",
   "metadata": {},
   "outputs": [
    {
     "data": {
      "text/plain": [
       "7.0"
      ]
     },
     "execution_count": 51,
     "metadata": {},
     "output_type": "execute_result"
    }
   ],
   "source": [
    "optimal_scoops_of_ice_cream"
   ]
  },
  {
   "cell_type": "markdown",
   "id": "fd6a88f6",
   "metadata": {},
   "source": [
    "went back to float.  bc python knows that many math operations will result in decimals"
   ]
  },
  {
   "cell_type": "code",
   "execution_count": 52,
   "id": "0dbbcb52",
   "metadata": {},
   "outputs": [
    {
     "name": "stdout",
     "output_type": "stream",
     "text": [
      "700.0\n"
     ]
    }
   ],
   "source": [
    "print(optimal_scoops_of_ice_cream * 100)"
   ]
  },
  {
   "cell_type": "markdown",
   "id": "f711c27b",
   "metadata": {},
   "source": [
    "##Takeaways\n",
    "- If you want to use a value again, it needs to be stored as a variable\n",
    "- A variable will hold its value until it is explicitly told to change\n",
    "- Variable can be used in an expression in the same way that the underlying value would be"
   ]
  }
 ],
 "metadata": {
  "kernelspec": {
   "display_name": "Python 3",
   "language": "python",
   "name": "python3"
  },
  "language_info": {
   "codemirror_mode": {
    "name": "ipython",
    "version": 3
   },
   "file_extension": ".py",
   "mimetype": "text/x-python",
   "name": "python",
   "nbconvert_exporter": "python",
   "pygments_lexer": "ipython3",
   "version": "3.8.8"
  }
 },
 "nbformat": 4,
 "nbformat_minor": 5
}
