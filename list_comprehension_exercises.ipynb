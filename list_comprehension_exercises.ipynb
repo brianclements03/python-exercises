{
 "cells": [
  {
   "cell_type": "markdown",
   "id": "1ffb190f",
   "metadata": {},
   "source": [
    "Exercise 1 - rewrite the above example code using list comprehension syntax. Make a variable named uppercased_fruits to hold the output of the list comprehension. Output should be ['MANGO', 'KIWI', etc...]"
   ]
  },
  {
   "cell_type": "code",
   "execution_count": 6,
   "id": "4b6010e4",
   "metadata": {},
   "outputs": [],
   "source": [
    "fruits = ['mango', 'kiwi', 'strawberry', 'guava', 'pineapple', 'mandarin orange']"
   ]
  },
  {
   "cell_type": "code",
   "execution_count": 7,
   "id": "10dd5b16",
   "metadata": {},
   "outputs": [],
   "source": [
    "uppercased_fruits = []"
   ]
  },
  {
   "cell_type": "code",
   "execution_count": 43,
   "id": "c711b079",
   "metadata": {},
   "outputs": [],
   "source": [
    "for fruit in fruits:\n",
    "    uppercased_fruits.append(fruit.upper())"
   ]
  },
  {
   "cell_type": "code",
   "execution_count": 45,
   "id": "0dd0b6c7",
   "metadata": {},
   "outputs": [
    {
     "data": {
      "text/plain": [
       "['MANGO',\n",
       " 'KIWI',\n",
       " 'STRAWBERRY',\n",
       " 'GUAVA',\n",
       " 'PINEAPPLE',\n",
       " 'MANDARIN ORANGE',\n",
       " 'MANGO',\n",
       " 'KIWI',\n",
       " 'STRAWBERRY',\n",
       " 'GUAVA',\n",
       " 'PINEAPPLE',\n",
       " 'MANDARIN ORANGE']"
      ]
     },
     "execution_count": 45,
     "metadata": {},
     "output_type": "execute_result"
    }
   ],
   "source": [
    "uppercased_fruits"
   ]
  },
  {
   "cell_type": "markdown",
   "id": "80044d3e",
   "metadata": {},
   "source": [
    "Exercise 2 - create a variable named capitalized_fruits and use list comprehension syntax to produce output \n",
    "like ['Mango', 'Kiwi', 'Strawberry', etc...]"
   ]
  },
  {
   "cell_type": "code",
   "execution_count": 48,
   "id": "b1efcf13",
   "metadata": {},
   "outputs": [],
   "source": [
    "fruits = ['mango', 'kiwi', 'strawberry', 'guava', 'pineapple', 'mandarin orange']"
   ]
  },
  {
   "cell_type": "code",
   "execution_count": 61,
   "id": "8ec381b6",
   "metadata": {},
   "outputs": [],
   "source": [
    "captitalized_fruits = ([f.title() for f in fruits])"
   ]
  },
  {
   "cell_type": "code",
   "execution_count": 62,
   "id": "0bd1dbba",
   "metadata": {},
   "outputs": [
    {
     "ename": "NameError",
     "evalue": "name 'capitalized_fruits' is not defined",
     "output_type": "error",
     "traceback": [
      "\u001b[0;31m---------------------------------------------------------------------------\u001b[0m",
      "\u001b[0;31mNameError\u001b[0m                                 Traceback (most recent call last)",
      "\u001b[0;32m<ipython-input-62-ce791828f29d>\u001b[0m in \u001b[0;36m<module>\u001b[0;34m\u001b[0m\n\u001b[0;32m----> 1\u001b[0;31m \u001b[0mcapitalized_fruits\u001b[0m\u001b[0;34m\u001b[0m\u001b[0;34m\u001b[0m\u001b[0m\n\u001b[0m",
      "\u001b[0;31mNameError\u001b[0m: name 'capitalized_fruits' is not defined"
     ]
    }
   ],
   "source": [
    "capitalized_fruits"
   ]
  },
  {
   "cell_type": "code",
   "execution_count": 65,
   "id": "32898935",
   "metadata": {
    "scrolled": true
   },
   "outputs": [
    {
     "ename": "NameError",
     "evalue": "name 'capitalized_fruits' is not defined",
     "output_type": "error",
     "traceback": [
      "\u001b[0;31m---------------------------------------------------------------------------\u001b[0m",
      "\u001b[0;31mNameError\u001b[0m                                 Traceback (most recent call last)",
      "\u001b[0;32m<ipython-input-65-69a0a13494b8>\u001b[0m in \u001b[0;36m<module>\u001b[0;34m\u001b[0m\n\u001b[1;32m      1\u001b[0m \u001b[0;32mfor\u001b[0m \u001b[0mfruit\u001b[0m \u001b[0;32min\u001b[0m \u001b[0mfruits\u001b[0m\u001b[0;34m:\u001b[0m\u001b[0;34m\u001b[0m\u001b[0;34m\u001b[0m\u001b[0m\n\u001b[0;32m----> 2\u001b[0;31m     \u001b[0mcapitalized_fruits\u001b[0m\u001b[0;34m.\u001b[0m\u001b[0mappend\u001b[0m\u001b[0;34m(\u001b[0m\u001b[0;34m{\u001b[0m\u001b[0mfruit\u001b[0m\u001b[0;34m.\u001b[0m\u001b[0mcapitalize\u001b[0m\u001b[0;34m(\u001b[0m\u001b[0;34m)\u001b[0m\u001b[0;34m}\u001b[0m\u001b[0;34m)\u001b[0m\u001b[0;34m\u001b[0m\u001b[0;34m\u001b[0m\u001b[0m\n\u001b[0m",
      "\u001b[0;31mNameError\u001b[0m: name 'capitalized_fruits' is not defined"
     ]
    }
   ],
   "source": [
    "for fruit in fruits: \n",
    "    capitalized_fruits.append(fruit.capitalize())"
   ]
  },
  {
   "cell_type": "code",
   "execution_count": 37,
   "id": "f594e751",
   "metadata": {},
   "outputs": [
    {
     "name": "stdout",
     "output_type": "stream",
     "text": [
      "['Mango', 'Kiwi', 'Strawberry', 'Guava', 'Pineapple', 'Mandarin orange']\n"
     ]
    }
   ],
   "source": [
    "print([f.capitalize() for f in fruits])"
   ]
  }
 ],
 "metadata": {
  "kernelspec": {
   "display_name": "Python 3",
   "language": "python",
   "name": "python3"
  },
  "language_info": {
   "codemirror_mode": {
    "name": "ipython",
    "version": 3
   },
   "file_extension": ".py",
   "mimetype": "text/x-python",
   "name": "python",
   "nbconvert_exporter": "python",
   "pygments_lexer": "ipython3",
   "version": "3.8.8"
  }
 },
 "nbformat": 4,
 "nbformat_minor": 5
}
