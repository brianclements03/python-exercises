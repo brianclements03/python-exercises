{
 "cells": [
  {
   "cell_type": "code",
   "execution_count": 1,
   "id": "9489d3b0",
   "metadata": {},
   "outputs": [],
   "source": [
    "fruits = ['mango', 'kiwi', 'strawberry', 'guava', 'pineapple', 'mandarin orange']"
   ]
  },
  {
   "cell_type": "code",
   "execution_count": 5,
   "id": "3c536d8b",
   "metadata": {},
   "outputs": [],
   "source": [
    "uppercased_fruits = []"
   ]
  },
  {
   "cell_type": "code",
   "execution_count": 7,
   "id": "0d96231e",
   "metadata": {},
   "outputs": [],
   "source": [
    "for fruit in fruits:\n",
    "    uppercased_fruits.append(fruit.upper())"
   ]
  },
  {
   "cell_type": "code",
   "execution_count": 8,
   "id": "69817cae",
   "metadata": {},
   "outputs": [
    {
     "data": {
      "text/plain": [
       "['MANGO',\n",
       " 'KIWI',\n",
       " 'STRAWBERRY',\n",
       " 'GUAVA',\n",
       " 'PINEAPPLE',\n",
       " 'MANDARIN ORANGE',\n",
       " 'MANGO',\n",
       " 'KIWI',\n",
       " 'STRAWBERRY',\n",
       " 'GUAVA',\n",
       " 'PINEAPPLE',\n",
       " 'MANDARIN ORANGE']"
      ]
     },
     "execution_count": 8,
     "metadata": {},
     "output_type": "execute_result"
    }
   ],
   "source": [
    "uppercased_fruits"
   ]
  },
  {
   "cell_type": "code",
   "execution_count": null,
   "id": "5490c139",
   "metadata": {},
   "outputs": [],
   "source": []
  }
 ],
 "metadata": {
  "kernelspec": {
   "display_name": "Python 3",
   "language": "python",
   "name": "python3"
  },
  "language_info": {
   "codemirror_mode": {
    "name": "ipython",
    "version": 3
   },
   "file_extension": ".py",
   "mimetype": "text/x-python",
   "name": "python",
   "nbconvert_exporter": "python",
   "pygments_lexer": "ipython3",
   "version": "3.8.8"
  }
 },
 "nbformat": 4,
 "nbformat_minor": 5
}
