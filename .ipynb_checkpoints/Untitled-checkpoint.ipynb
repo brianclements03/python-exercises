{
 "cells": [
  {
   "cell_type": "code",
   "execution_count": 1,
   "id": "96109759",
   "metadata": {},
   "outputs": [
    {
     "data": {
      "text/plain": [
       "-6"
      ]
     },
     "execution_count": 1,
     "metadata": {},
     "output_type": "execute_result"
    }
   ],
   "source": [
    "2-8"
   ]
  },
  {
   "cell_type": "code",
   "execution_count": 2,
   "id": "589a8216",
   "metadata": {},
   "outputs": [
    {
     "name": "stdout",
     "output_type": "stream",
     "text": [
      "welcome to jupyter\n"
     ]
    }
   ],
   "source": [
    "print('welcome to jupyter')"
   ]
  },
  {
   "cell_type": "code",
   "execution_count": 3,
   "id": "dfa1f1a4",
   "metadata": {},
   "outputs": [],
   "source": [
    "x = 'still getting used to this'"
   ]
  },
  {
   "cell_type": "raw",
   "id": "e7621a2a",
   "metadata": {},
   "source": [
    "print(x)"
   ]
  },
  {
   "cell_type": "code",
   "execution_count": 4,
   "id": "84f1e5dd",
   "metadata": {},
   "outputs": [
    {
     "name": "stdout",
     "output_type": "stream",
     "text": [
      "still getting used to this\n"
     ]
    }
   ],
   "source": [
    "print(x)"
   ]
  }
 ],
 "metadata": {
  "kernelspec": {
   "display_name": "Python 3",
   "language": "python",
   "name": "python3"
  },
  "language_info": {
   "codemirror_mode": {
    "name": "ipython",
    "version": 3
   },
   "file_extension": ".py",
   "mimetype": "text/x-python",
   "name": "python",
   "nbconvert_exporter": "python",
   "pygments_lexer": "ipython3",
   "version": "3.8.8"
  }
 },
 "nbformat": 4,
 "nbformat_minor": 5
}
