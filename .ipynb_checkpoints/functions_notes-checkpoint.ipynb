{
 "cells": [
  {
   "cell_type": "code",
   "execution_count": 1,
   "id": "0804a7c0",
   "metadata": {},
   "outputs": [
    {
     "data": {
      "text/plain": [
       "5"
      ]
     },
     "execution_count": 1,
     "metadata": {},
     "output_type": "execute_result"
    }
   ],
   "source": [
    "x = 5\n",
    "x"
   ]
  },
  {
   "cell_type": "code",
   "execution_count": 2,
   "id": "4bf167db",
   "metadata": {},
   "outputs": [],
   "source": [
    "def add_one(x):\n",
    "    \"\"\"adds 1 to any inpur. string inputs produce an error\"\"\"\n",
    "    return x + 1"
   ]
  },
  {
   "cell_type": "code",
   "execution_count": 3,
   "id": "dad0edba",
   "metadata": {},
   "outputs": [
    {
     "data": {
      "text/plain": [
       "11"
      ]
     },
     "execution_count": 3,
     "metadata": {},
     "output_type": "execute_result"
    }
   ],
   "source": [
    "add_one(10)"
   ]
  },
  {
   "cell_type": "code",
   "execution_count": 4,
   "id": "5366ec69",
   "metadata": {},
   "outputs": [
    {
     "data": {
      "text/plain": [
       "5"
      ]
     },
     "execution_count": 4,
     "metadata": {},
     "output_type": "execute_result"
    }
   ],
   "source": [
    "x"
   ]
  },
  {
   "cell_type": "markdown",
   "id": "07f00a14",
   "metadata": {},
   "source": [
    "#the above is an example of 'scope'\n",
    "\n",
    "#the x inside the function is independent of the x outside it\n",
    "\n",
    "the triple quotes are called ____________"
   ]
  },
  {
   "cell_type": "markdown",
   "id": "2225637b",
   "metadata": {},
   "source": [
    "## Example of a function that operates on a global variable"
   ]
  },
  {
   "cell_type": "code",
   "execution_count": null,
   "id": "2e13d785",
   "metadata": {},
   "outputs": [],
   "source": [
    "x = 5 "
   ]
  },
  {
   "cell_type": "code",
   "execution_count": 12,
   "id": "2591f40d",
   "metadata": {},
   "outputs": [],
   "source": [
    "def global_increment():\n",
    "    global x\n",
    "    x = x + 1\n",
    "    print(x + 1)"
   ]
  },
  {
   "cell_type": "code",
   "execution_count": 13,
   "id": "880050a6",
   "metadata": {},
   "outputs": [
    {
     "name": "stdout",
     "output_type": "stream",
     "text": [
      "7\n"
     ]
    }
   ],
   "source": [
    "global_increment()"
   ]
  },
  {
   "cell_type": "code",
   "execution_count": 14,
   "id": "795b4289",
   "metadata": {},
   "outputs": [
    {
     "name": "stdout",
     "output_type": "stream",
     "text": [
      "8\n"
     ]
    }
   ],
   "source": [
    "global_increment()"
   ]
  },
  {
   "cell_type": "code",
   "execution_count": 15,
   "id": "8f1ba28d",
   "metadata": {
    "scrolled": true
   },
   "outputs": [
    {
     "ename": "TypeError",
     "evalue": "global_increment() takes 0 positional arguments but 1 was given",
     "output_type": "error",
     "traceback": [
      "\u001b[0;31m---------------------------------------------------------------------------\u001b[0m",
      "\u001b[0;31mTypeError\u001b[0m                                 Traceback (most recent call last)",
      "\u001b[0;32m<ipython-input-15-c5dbdb0781f3>\u001b[0m in \u001b[0;36m<module>\u001b[0;34m\u001b[0m\n\u001b[0;32m----> 1\u001b[0;31m \u001b[0mglobal_increment\u001b[0m\u001b[0;34m(\u001b[0m\u001b[0;36m10\u001b[0m\u001b[0;34m)\u001b[0m\u001b[0;34m\u001b[0m\u001b[0;34m\u001b[0m\u001b[0m\n\u001b[0m",
      "\u001b[0;31mTypeError\u001b[0m: global_increment() takes 0 positional arguments but 1 was given"
     ]
    }
   ],
   "source": [
    "global_increment(10)"
   ]
  },
  {
   "cell_type": "code",
   "execution_count": 21,
   "id": "83d7554b",
   "metadata": {},
   "outputs": [],
   "source": [
    "def increment(x):\n",
    "    result = x + 1\n",
    "    print(result)"
   ]
  },
  {
   "cell_type": "code",
   "execution_count": 22,
   "id": "a0ce0012",
   "metadata": {},
   "outputs": [
    {
     "name": "stdout",
     "output_type": "stream",
     "text": [
      "12\n"
     ]
    }
   ],
   "source": [
    "increment(11)"
   ]
  },
  {
   "cell_type": "code",
   "execution_count": 24,
   "id": "ba521940",
   "metadata": {},
   "outputs": [
    {
     "name": "stdout",
     "output_type": "stream",
     "text": [
      "12\n"
     ]
    }
   ],
   "source": [
    "result = increment(11)"
   ]
  },
  {
   "cell_type": "code",
   "execution_count": 25,
   "id": "1960ae77",
   "metadata": {},
   "outputs": [
    {
     "data": {
      "text/plain": [
       "NoneType"
      ]
     },
     "execution_count": 25,
     "metadata": {},
     "output_type": "execute_result"
    }
   ],
   "source": [
    "type(result)"
   ]
  },
  {
   "cell_type": "code",
   "execution_count": 26,
   "id": "2d7405c7",
   "metadata": {},
   "outputs": [
    {
     "name": "stdout",
     "output_type": "stream",
     "text": [
      "2\n"
     ]
    },
    {
     "ename": "TypeError",
     "evalue": "unsupported operand type(s) for +: 'NoneType' and 'int'",
     "output_type": "error",
     "traceback": [
      "\u001b[0;31m---------------------------------------------------------------------------\u001b[0m",
      "\u001b[0;31mTypeError\u001b[0m                                 Traceback (most recent call last)",
      "\u001b[0;32m<ipython-input-26-6b6673d04003>\u001b[0m in \u001b[0;36m<module>\u001b[0;34m\u001b[0m\n\u001b[0;32m----> 1\u001b[0;31m \u001b[0mincrement\u001b[0m\u001b[0;34m(\u001b[0m\u001b[0mincrement\u001b[0m\u001b[0;34m(\u001b[0m\u001b[0;36m1\u001b[0m\u001b[0;34m)\u001b[0m\u001b[0;34m)\u001b[0m\u001b[0;34m\u001b[0m\u001b[0;34m\u001b[0m\u001b[0m\n\u001b[0m",
      "\u001b[0;32m<ipython-input-21-83d1cadb635e>\u001b[0m in \u001b[0;36mincrement\u001b[0;34m(x)\u001b[0m\n\u001b[1;32m      1\u001b[0m \u001b[0;32mdef\u001b[0m \u001b[0mincrement\u001b[0m\u001b[0;34m(\u001b[0m\u001b[0mx\u001b[0m\u001b[0;34m)\u001b[0m\u001b[0;34m:\u001b[0m\u001b[0;34m\u001b[0m\u001b[0;34m\u001b[0m\u001b[0m\n\u001b[0;32m----> 2\u001b[0;31m     \u001b[0mresult\u001b[0m \u001b[0;34m=\u001b[0m \u001b[0mx\u001b[0m \u001b[0;34m+\u001b[0m \u001b[0;36m1\u001b[0m\u001b[0;34m\u001b[0m\u001b[0;34m\u001b[0m\u001b[0m\n\u001b[0m\u001b[1;32m      3\u001b[0m     \u001b[0mprint\u001b[0m\u001b[0;34m(\u001b[0m\u001b[0mresult\u001b[0m\u001b[0;34m)\u001b[0m\u001b[0;34m\u001b[0m\u001b[0;34m\u001b[0m\u001b[0m\n",
      "\u001b[0;31mTypeError\u001b[0m: unsupported operand type(s) for +: 'NoneType' and 'int'"
     ]
    }
   ],
   "source": [
    "increment(increment(1))"
   ]
  },
  {
   "cell_type": "code",
   "execution_count": 28,
   "id": "63a5aca0",
   "metadata": {},
   "outputs": [],
   "source": [
    "#note how the lack of a return function resulted in 'no' output\n",
    "#some functions and operations return nonetype on purpose"
   ]
  },
  {
   "cell_type": "code",
   "execution_count": 30,
   "id": "07a8d28d",
   "metadata": {},
   "outputs": [],
   "source": [
    "beatles = ['john', 'paul', 'george']\n",
    "x = beatles.append('ringo')"
   ]
  },
  {
   "cell_type": "code",
   "execution_count": 31,
   "id": "016b3b8d",
   "metadata": {},
   "outputs": [
    {
     "data": {
      "text/plain": [
       "NoneType"
      ]
     },
     "execution_count": 31,
     "metadata": {},
     "output_type": "execute_result"
    }
   ],
   "source": [
    "type(x)"
   ]
  },
  {
   "cell_type": "code",
   "execution_count": 33,
   "id": "a5a94158",
   "metadata": {},
   "outputs": [
    {
     "name": "stdout",
     "output_type": "stream",
     "text": [
      "['john', 'paul', 'george', 'ringo']\n"
     ]
    }
   ],
   "source": [
    "print(beatles)"
   ]
  },
  {
   "cell_type": "markdown",
   "id": "287b7eb3",
   "metadata": {},
   "source": [
    "## example of a global variable w/o the global keyword"
   ]
  },
  {
   "cell_type": "code",
   "execution_count": 34,
   "id": "fc95f64b",
   "metadata": {},
   "outputs": [],
   "source": [
    "my_name = 'brian'\n",
    "\n",
    "def print_name():\n",
    "    print(f\"my name is {my_name}\")"
   ]
  },
  {
   "cell_type": "code",
   "execution_count": 36,
   "id": "f6ad78ea",
   "metadata": {},
   "outputs": [
    {
     "name": "stdout",
     "output_type": "stream",
     "text": [
      "my name is brian\n"
     ]
    }
   ],
   "source": [
    "print_name()"
   ]
  },
  {
   "cell_type": "markdown",
   "id": "1c557f57",
   "metadata": {},
   "source": [
    "# multiple arguments and default arguments"
   ]
  },
  {
   "cell_type": "code",
   "execution_count": 37,
   "id": "eff82f10",
   "metadata": {},
   "outputs": [
    {
     "data": {
      "text/plain": [
       "2"
      ]
     },
     "execution_count": 37,
     "metadata": {},
     "output_type": "execute_result"
    }
   ],
   "source": [
    "def add(x, y):\n",
    "    return x\n",
    "\n",
    "add(2,3)"
   ]
  },
  {
   "cell_type": "code",
   "execution_count": 38,
   "id": "b24a8dee",
   "metadata": {},
   "outputs": [
    {
     "ename": "TypeError",
     "evalue": "add() missing 2 required positional arguments: 'x' and 'y'",
     "output_type": "error",
     "traceback": [
      "\u001b[0;31m---------------------------------------------------------------------------\u001b[0m",
      "\u001b[0;31mTypeError\u001b[0m                                 Traceback (most recent call last)",
      "\u001b[0;32m<ipython-input-38-d5d29de3ed94>\u001b[0m in \u001b[0;36m<module>\u001b[0;34m\u001b[0m\n\u001b[0;32m----> 1\u001b[0;31m \u001b[0madd\u001b[0m\u001b[0;34m(\u001b[0m\u001b[0;34m)\u001b[0m\u001b[0;34m\u001b[0m\u001b[0;34m\u001b[0m\u001b[0m\n\u001b[0m",
      "\u001b[0;31mTypeError\u001b[0m: add() missing 2 required positional arguments: 'x' and 'y'"
     ]
    }
   ],
   "source": [
    "add()"
   ]
  },
  {
   "cell_type": "code",
   "execution_count": 39,
   "id": "b78af58a",
   "metadata": {},
   "outputs": [
    {
     "data": {
      "text/plain": [
       "5"
      ]
     },
     "execution_count": 39,
     "metadata": {},
     "output_type": "execute_result"
    }
   ],
   "source": [
    "def add(x, y):\n",
    "    \"\"\"adds x and y\"\"\"\n",
    "    return x + y\n",
    "add(2,3)"
   ]
  },
  {
   "cell_type": "code",
   "execution_count": 40,
   "id": "cadbffd3",
   "metadata": {},
   "outputs": [],
   "source": [
    "#there need to be two inputs if there are two arguments"
   ]
  },
  {
   "cell_type": "markdown",
   "id": "262bb4e0",
   "metadata": {},
   "source": [
    "## default arguments and keyword arguments"
   ]
  },
  {
   "cell_type": "code",
   "execution_count": 50,
   "id": "3f1c51b9",
   "metadata": {},
   "outputs": [],
   "source": [
    "def greet(salutation=\"hello\", recipient='world'):\n",
    "    return f\"{salutation}, {recipient}!\""
   ]
  },
  {
   "cell_type": "code",
   "execution_count": 51,
   "id": "4fa9b8e8",
   "metadata": {},
   "outputs": [
    {
     "data": {
      "text/plain": [
       "'hi, world!'"
      ]
     },
     "execution_count": 51,
     "metadata": {},
     "output_type": "execute_result"
    }
   ],
   "source": [
    "greet(salutation = \"hi\")"
   ]
  },
  {
   "cell_type": "code",
   "execution_count": 52,
   "id": "63c1522d",
   "metadata": {},
   "outputs": [
    {
     "data": {
      "text/plain": [
       "'yo, peeps!'"
      ]
     },
     "execution_count": 52,
     "metadata": {},
     "output_type": "execute_result"
    }
   ],
   "source": [
    "greet(recipient='peeps',salutation='yo')"
   ]
  },
  {
   "cell_type": "markdown",
   "id": "7bdcc501",
   "metadata": {},
   "source": [
    "# LAMBDAS\n",
    "- An anonymous function.  Just a function\n",
    "- popular in math\n",
    "- helpful if you don't need to reuse function or have it named.\n",
    "- lambdas in python are the function body itself\n",
    "- lambdas are only one liners\n",
    "- the return is automatic/implicit"
   ]
  },
  {
   "cell_type": "code",
   "execution_count": 56,
   "id": "6eaa64ee",
   "metadata": {},
   "outputs": [],
   "source": [
    "add_two = lambda x: x + 2\n",
    "#this is not even syntactically correct code"
   ]
  },
  {
   "cell_type": "code",
   "execution_count": 57,
   "id": "26a9c79b",
   "metadata": {},
   "outputs": [
    {
     "data": {
      "text/plain": [
       "5"
      ]
     },
     "execution_count": 57,
     "metadata": {},
     "output_type": "execute_result"
    }
   ],
   "source": [
    "add_two(3)"
   ]
  },
  {
   "cell_type": "code",
   "execution_count": 58,
   "id": "2dd2a16c",
   "metadata": {},
   "outputs": [
    {
     "data": {
      "text/plain": [
       "<function __main__.<lambda>(x)>"
      ]
     },
     "execution_count": 58,
     "metadata": {},
     "output_type": "execute_result"
    }
   ],
   "source": [
    "add_two"
   ]
  },
  {
   "cell_type": "code",
   "execution_count": 60,
   "id": "4ff94133",
   "metadata": {},
   "outputs": [
    {
     "data": {
      "text/plain": [
       "<function __main__.add_one(x)>"
      ]
     },
     "execution_count": 60,
     "metadata": {},
     "output_type": "execute_result"
    }
   ],
   "source": [
    "add_one\n",
    "#see the difference from the previous examply function"
   ]
  },
  {
   "cell_type": "markdown",
   "id": "82076323",
   "metadata": {},
   "source": [
    "# where are they actually useful instead of alternate syntax?"
   ]
  },
  {
   "cell_type": "code",
   "execution_count": 61,
   "id": "4e43cc7b",
   "metadata": {},
   "outputs": [],
   "source": [
    "boats = [\n",
    "    {\n",
    "        \"type\": \"tugboat\",\n",
    "        \"price\": 100_000\n",
    "    },\n",
    "    {\n",
    "        \"type\": \"dreadnaught\",\n",
    "        \"price\": 500_000\n",
    "    },\n",
    "    {\n",
    "        \"type\": \"origami paper boat\",\n",
    "        \"price\": 0.005\n",
    "    }\n",
    "]"
   ]
  },
  {
   "cell_type": "code",
   "execution_count": 62,
   "id": "6f09284f",
   "metadata": {},
   "outputs": [
    {
     "data": {
      "text/plain": [
       "[1, 2, 3, 5]"
      ]
     },
     "execution_count": 62,
     "metadata": {},
     "output_type": "execute_result"
    }
   ],
   "source": [
    "sorted([1, 5, 2, 3])"
   ]
  },
  {
   "cell_type": "code",
   "execution_count": 63,
   "id": "be0845a6",
   "metadata": {},
   "outputs": [
    {
     "data": {
      "text/plain": [
       "['george', 'john', 'paul', 'ringo']"
      ]
     },
     "execution_count": 63,
     "metadata": {},
     "output_type": "execute_result"
    }
   ],
   "source": [
    "beatles.sort()\n",
    "beatles"
   ]
  },
  {
   "cell_type": "code",
   "execution_count": 64,
   "id": "89b76309",
   "metadata": {},
   "outputs": [
    {
     "ename": "TypeError",
     "evalue": "'<' not supported between instances of 'dict' and 'dict'",
     "output_type": "error",
     "traceback": [
      "\u001b[0;31m---------------------------------------------------------------------------\u001b[0m",
      "\u001b[0;31mTypeError\u001b[0m                                 Traceback (most recent call last)",
      "\u001b[0;32m<ipython-input-64-f5cd9d53ba89>\u001b[0m in \u001b[0;36m<module>\u001b[0;34m\u001b[0m\n\u001b[0;32m----> 1\u001b[0;31m \u001b[0mboats\u001b[0m\u001b[0;34m.\u001b[0m\u001b[0msort\u001b[0m\u001b[0;34m(\u001b[0m\u001b[0;34m)\u001b[0m\u001b[0;34m\u001b[0m\u001b[0;34m\u001b[0m\u001b[0m\n\u001b[0m\u001b[1;32m      2\u001b[0m \u001b[0mboats\u001b[0m\u001b[0;34m\u001b[0m\u001b[0;34m\u001b[0m\u001b[0m\n",
      "\u001b[0;31mTypeError\u001b[0m: '<' not supported between instances of 'dict' and 'dict'"
     ]
    }
   ],
   "source": [
    "boats.sort()\n",
    "boats"
   ]
  },
  {
   "cell_type": "code",
   "execution_count": 66,
   "id": "13bd870c",
   "metadata": {},
   "outputs": [
    {
     "ename": "TypeError",
     "evalue": "'<' not supported between instances of 'dict' and 'dict'",
     "output_type": "error",
     "traceback": [
      "\u001b[0;31m---------------------------------------------------------------------------\u001b[0m",
      "\u001b[0;31mTypeError\u001b[0m                                 Traceback (most recent call last)",
      "\u001b[0;32m<ipython-input-66-bd8a6e035d24>\u001b[0m in \u001b[0;36m<module>\u001b[0;34m\u001b[0m\n\u001b[0;32m----> 1\u001b[0;31m \u001b[0msorted\u001b[0m\u001b[0;34m(\u001b[0m\u001b[0mboats\u001b[0m\u001b[0;34m)\u001b[0m\u001b[0;34m\u001b[0m\u001b[0;34m\u001b[0m\u001b[0m\n\u001b[0m",
      "\u001b[0;31mTypeError\u001b[0m: '<' not supported between instances of 'dict' and 'dict'"
     ]
    }
   ],
   "source": [
    "sorted(boats)"
   ]
  },
  {
   "cell_type": "code",
   "execution_count": 67,
   "id": "9801ab40",
   "metadata": {},
   "outputs": [
    {
     "data": {
      "text/plain": [
       "[{'type': 'origami paper boat', 'price': 0.005},\n",
       " {'type': 'tugboat', 'price': 100000},\n",
       " {'type': 'dreadnaught', 'price': 500000}]"
      ]
     },
     "execution_count": 67,
     "metadata": {},
     "output_type": "execute_result"
    }
   ],
   "source": [
    "#second arguemnt is optional\n",
    "#this works with min/max too\n",
    "#key = lambda object['key']\n",
    "sorted(boats, key = lambda x: x[\"price\"])"
   ]
  },
  {
   "cell_type": "code",
   "execution_count": 73,
   "id": "07553c98",
   "metadata": {},
   "outputs": [
    {
     "data": {
      "text/plain": [
       "{'type': 'dreadnaught', 'price': 500000}"
      ]
     },
     "execution_count": 73,
     "metadata": {},
     "output_type": "execute_result"
    }
   ],
   "source": [
    "min(boats, key = lambda x:x['type'])\n",
    "#lowest beginning letter here"
   ]
  },
  {
   "cell_type": "code",
   "execution_count": 70,
   "id": "5ddb0b2e",
   "metadata": {},
   "outputs": [],
   "source": [
    "def sort_by_price(x):\n",
    "    return x[\"price\"]"
   ]
  },
  {
   "cell_type": "code",
   "execution_count": 71,
   "id": "d86ed2f7",
   "metadata": {},
   "outputs": [
    {
     "data": {
      "text/plain": [
       "{'type': 'dreadnaught', 'price': 500000}"
      ]
     },
     "execution_count": 71,
     "metadata": {},
     "output_type": "execute_result"
    }
   ],
   "source": [
    "max(boats, key = sort_by_price)"
   ]
  },
  {
   "cell_type": "code",
   "execution_count": 72,
   "id": "596f77fc",
   "metadata": {},
   "outputs": [
    {
     "data": {
      "text/plain": [
       "{'type': 'origami paper boat', 'price': 0.005}"
      ]
     },
     "execution_count": 72,
     "metadata": {},
     "output_type": "execute_result"
    }
   ],
   "source": [
    "min(boats, key=sort_by_price)"
   ]
  },
  {
   "cell_type": "code",
   "execution_count": null,
   "id": "07ff4616",
   "metadata": {},
   "outputs": [],
   "source": []
  }
 ],
 "metadata": {
  "kernelspec": {
   "display_name": "Python 3",
   "language": "python",
   "name": "python3"
  },
  "language_info": {
   "codemirror_mode": {
    "name": "ipython",
    "version": 3
   },
   "file_extension": ".py",
   "mimetype": "text/x-python",
   "name": "python",
   "nbconvert_exporter": "python",
   "pygments_lexer": "ipython3",
   "version": "3.8.8"
  }
 },
 "nbformat": 4,
 "nbformat_minor": 5
}
