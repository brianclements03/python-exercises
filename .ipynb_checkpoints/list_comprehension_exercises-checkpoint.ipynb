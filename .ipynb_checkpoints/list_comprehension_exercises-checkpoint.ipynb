{
 "cells": [
  {
   "cell_type": "markdown",
   "id": "c4c57688",
   "metadata": {},
   "source": [
    "Exercise 1 - rewrite the above example code using list comprehension syntax. Make a variable named uppercased_fruits to hold the output of the list comprehension. Output should be ['MANGO', 'KIWI', etc...]"
   ]
  },
  {
   "cell_type": "code",
   "execution_count": 6,
   "id": "e506a46e",
   "metadata": {},
   "outputs": [],
   "source": [
    "fruits = ['mango', 'kiwi', 'strawberry', 'guava', 'pineapple', 'mandarin orange']"
   ]
  },
  {
   "cell_type": "code",
   "execution_count": 191,
   "id": "68156efa",
   "metadata": {},
   "outputs": [
    {
     "data": {
      "text/plain": [
       "['MANGO', 'KIWI', 'STRAWBERRY', 'GUAVA', 'PINEAPPLE', 'MANDARIN ORANGE']"
      ]
     },
     "execution_count": 191,
     "metadata": {},
     "output_type": "execute_result"
    }
   ],
   "source": [
    "uppercased_fruits = [fruit.upper() for fruit in fruits]\n",
    "uppercased_fruits"
   ]
  },
  {
   "cell_type": "code",
   "execution_count": 43,
   "id": "6b0d746f",
   "metadata": {},
   "outputs": [],
   "source": [
    "for fruit in fruits:\n",
    "    uppercased_fruits.append(fruit.upper())"
   ]
  },
  {
   "cell_type": "code",
   "execution_count": 45,
   "id": "146a7df9",
   "metadata": {},
   "outputs": [
    {
     "data": {
      "text/plain": [
       "['MANGO',\n",
       " 'KIWI',\n",
       " 'STRAWBERRY',\n",
       " 'GUAVA',\n",
       " 'PINEAPPLE',\n",
       " 'MANDARIN ORANGE',\n",
       " 'MANGO',\n",
       " 'KIWI',\n",
       " 'STRAWBERRY',\n",
       " 'GUAVA',\n",
       " 'PINEAPPLE',\n",
       " 'MANDARIN ORANGE']"
      ]
     },
     "execution_count": 45,
     "metadata": {},
     "output_type": "execute_result"
    }
   ],
   "source": [
    "uppercased_fruits"
   ]
  },
  {
   "cell_type": "markdown",
   "id": "05877e65",
   "metadata": {},
   "source": [
    "Exercise 2 - create a variable named capitalized_fruits and use list comprehension syntax to produce output \n",
    "like ['Mango', 'Kiwi', 'Strawberry', etc...]"
   ]
  },
  {
   "cell_type": "code",
   "execution_count": 128,
   "id": "2f8b6742",
   "metadata": {},
   "outputs": [],
   "source": [
    "fruits = ['mango', 'kiwi', 'strawberry', 'guava', 'pineapple', 'mandarin orange']"
   ]
  },
  {
   "cell_type": "code",
   "execution_count": 192,
   "id": "c599938e",
   "metadata": {},
   "outputs": [
    {
     "data": {
      "text/plain": [
       "['Mango', 'Kiwi', 'Strawberry', 'Guava', 'Pineapple', 'Mandarin orange']"
      ]
     },
     "execution_count": 192,
     "metadata": {},
     "output_type": "execute_result"
    }
   ],
   "source": [
    "capitalized_fruits = [fruit.capitalize() for fruit in fruits]\n",
    "capitalized_fruits"
   ]
  },
  {
   "cell_type": "code",
   "execution_count": 96,
   "id": "00a3ed76",
   "metadata": {},
   "outputs": [],
   "source": [
    "for fruit in fruits:\n",
    "    capitalized_fruits.append(fruit.capitalize())"
   ]
  },
  {
   "cell_type": "code",
   "execution_count": 98,
   "id": "119e95b8",
   "metadata": {},
   "outputs": [
    {
     "data": {
      "text/plain": [
       "['Mango',\n",
       " 'Kiwi',\n",
       " 'Strawberry',\n",
       " 'Guava',\n",
       " 'Pineapple',\n",
       " 'Mandarin orange',\n",
       " 'Mango',\n",
       " 'Kiwi',\n",
       " 'Strawberry',\n",
       " 'Guava',\n",
       " 'Pineapple',\n",
       " 'Mandarin orange']"
      ]
     },
     "execution_count": 98,
     "metadata": {},
     "output_type": "execute_result"
    }
   ],
   "source": [
    "capitalized_fruits"
   ]
  },
  {
   "cell_type": "markdown",
   "id": "d908f1ee",
   "metadata": {},
   "source": [
    "Exercise 3 - Use a list comprehension to make a variable named fruits_with_more_than_two_vowels. Hint: You'll need a way to check if something is a vowel.\n"
   ]
  },
  {
   "cell_type": "code",
   "execution_count": 111,
   "id": "21e3ddc3",
   "metadata": {},
   "outputs": [],
   "source": [
    "Vowels = ['a','e','i','o','u','A','E','I','O','U']"
   ]
  },
  {
   "cell_type": "code",
   "execution_count": 146,
   "id": "10d85b45",
   "metadata": {},
   "outputs": [],
   "source": [
    "def is_vowel(string):\n",
    "  string = string.lower()\n",
    "  return string == \"a\" or string == \"e\" or string ==\"i\" or string == \"o\" or string == \"u\""
   ]
  },
  {
   "cell_type": "code",
   "execution_count": 147,
   "id": "20aa5b7d",
   "metadata": {},
   "outputs": [],
   "source": [
    "def has_vowels(string):\n",
    "  for letter in string:\n",
    "    if is_vowel(letter):\n",
    "      return True\n",
    "  return False"
   ]
  },
  {
   "cell_type": "code",
   "execution_count": 148,
   "id": "9f191bbe",
   "metadata": {},
   "outputs": [],
   "source": [
    "def count_vowels(string):\n",
    "  count = 0\n",
    "  for letter in string:\n",
    "    if is_vowel(letter):\n",
    "      count += 1\n",
    "  return count"
   ]
  },
  {
   "cell_type": "code",
   "execution_count": 149,
   "id": "7997a7f0",
   "metadata": {},
   "outputs": [],
   "source": [
    "fruits_with_more_than_two_vowels = []"
   ]
  },
  {
   "cell_type": "code",
   "execution_count": 161,
   "id": "d37b911e",
   "metadata": {},
   "outputs": [],
   "source": [
    "fruits_with_more_than_two_vowels = [fruit for fruit in fruits if count_vowels(fruit) > 2]"
   ]
  },
  {
   "cell_type": "code",
   "execution_count": 162,
   "id": "b59fd6a2",
   "metadata": {},
   "outputs": [
    {
     "data": {
      "text/plain": [
       "['guava', 'pineapple', 'mandarin orange']"
      ]
     },
     "execution_count": 162,
     "metadata": {},
     "output_type": "execute_result"
    }
   ],
   "source": [
    "fruits_with_more_than_two_vowels"
   ]
  },
  {
   "cell_type": "markdown",
   "id": "51a58ee8",
   "metadata": {},
   "source": [
    "# here is john's solution..."
   ]
  },
  {
   "cell_type": "code",
   "execution_count": 230,
   "id": "42b75d4a",
   "metadata": {},
   "outputs": [
    {
     "data": {
      "text/plain": [
       "['guava', 'pineapple', 'mandarin orange']"
      ]
     },
     "execution_count": 230,
     "metadata": {},
     "output_type": "execute_result"
    }
   ],
   "source": [
    "def has_two_vowels(fruit):\n",
    "    return len([letter for letter in fruit if letter.lower() in 'aeiou']) > 2\n",
    "#got us a list with all the vowels in the string and checked if it was greater that 2\n",
    "fruits_with_more_than_two_vowels = [fruit for fruit in fruits if has_two_vowels(fruit)]\n",
    "fruits_with_more_than_two_vowels"
   ]
  },
  {
   "cell_type": "markdown",
   "id": "18ceddcf",
   "metadata": {},
   "source": [
    "that was easier.  notice how he treats the list/strings in parentheses/brackets"
   ]
  },
  {
   "cell_type": "markdown",
   "id": "ac88b32f",
   "metadata": {},
   "source": [
    "Exercise 4 - make a variable named fruits_with_only_two_vowels. The result should be ['mango', 'kiwi', 'strawberry']"
   ]
  },
  {
   "cell_type": "code",
   "execution_count": 165,
   "id": "b6657567",
   "metadata": {},
   "outputs": [],
   "source": [
    "fruits_with_only_two_vowels = [fruit for fruit in fruits if count_vowels(fruit) == 2]"
   ]
  },
  {
   "cell_type": "code",
   "execution_count": 194,
   "id": "e5c7ff0e",
   "metadata": {},
   "outputs": [
    {
     "data": {
      "text/plain": [
       "['mango', 'kiwi', 'strawberry']"
      ]
     },
     "execution_count": 194,
     "metadata": {},
     "output_type": "execute_result"
    }
   ],
   "source": [
    "fruits_with_only_two_vowels"
   ]
  },
  {
   "cell_type": "markdown",
   "id": "e9390c2f",
   "metadata": {},
   "source": [
    "john's solution....also note where the conditional is located."
   ]
  },
  {
   "cell_type": "code",
   "execution_count": 199,
   "id": "fb96ecb9",
   "metadata": {},
   "outputs": [
    {
     "data": {
      "text/plain": [
       "['mango', 'kiwi', 'strawberry']"
      ]
     },
     "execution_count": 199,
     "metadata": {},
     "output_type": "execute_result"
    }
   ],
   "source": [
    "fruits_with_only_two_vowels = [fruit for fruit in fruits if len([letter for letter in fruit if letter.lower() in 'aeiou']) == 2]\n",
    "fruits_with_only_two_vowels"
   ]
  },
  {
   "cell_type": "markdown",
   "id": "2b7f14ab",
   "metadata": {},
   "source": [
    "Exercise 5 - make a list that contains each fruit with more than 5 characters\n"
   ]
  },
  {
   "cell_type": "code",
   "execution_count": 200,
   "id": "ff3961d5",
   "metadata": {},
   "outputs": [
    {
     "data": {
      "text/plain": [
       "['strawberry', 'pineapple', 'mandarin orange']"
      ]
     },
     "execution_count": 200,
     "metadata": {},
     "output_type": "execute_result"
    }
   ],
   "source": [
    "[fruit for fruit in fruits if len(fruit) > 5]"
   ]
  },
  {
   "cell_type": "markdown",
   "id": "2e1e8ba3",
   "metadata": {},
   "source": [
    "Exercise 6 - make a list that contains each fruit with exactly 5 characters\n"
   ]
  },
  {
   "cell_type": "code",
   "execution_count": 201,
   "id": "1aab699c",
   "metadata": {},
   "outputs": [
    {
     "data": {
      "text/plain": [
       "['mango', 'guava']"
      ]
     },
     "execution_count": 201,
     "metadata": {},
     "output_type": "execute_result"
    }
   ],
   "source": [
    "[fruit for fruit in fruits if len(fruit) == 5]"
   ]
  },
  {
   "cell_type": "markdown",
   "id": "a1fe33b3",
   "metadata": {},
   "source": [
    "Exercise 7 - Make a list that contains fruits that have less than 5 characters\n"
   ]
  },
  {
   "cell_type": "code",
   "execution_count": 202,
   "id": "dfa791c4",
   "metadata": {},
   "outputs": [
    {
     "data": {
      "text/plain": [
       "['kiwi']"
      ]
     },
     "execution_count": 202,
     "metadata": {},
     "output_type": "execute_result"
    }
   ],
   "source": [
    "[fruit for fruit in fruits if len(fruit) < 5]"
   ]
  },
  {
   "cell_type": "code",
   "execution_count": 203,
   "id": "063187da",
   "metadata": {},
   "outputs": [],
   "source": [
    "# Exercise 8 - Make a list containing the number of characters in each fruit. Output would be [5, 4, 10, etc... ]\n"
   ]
  },
  {
   "cell_type": "code",
   "execution_count": 204,
   "id": "f6186f02",
   "metadata": {},
   "outputs": [
    {
     "data": {
      "text/plain": [
       "[5, 4, 10, 5, 9, 15]"
      ]
     },
     "execution_count": 204,
     "metadata": {},
     "output_type": "execute_result"
    }
   ],
   "source": [
    "[len(fruit) for fruit in fruits]"
   ]
  },
  {
   "cell_type": "code",
   "execution_count": 233,
   "id": "9fa63a67",
   "metadata": {},
   "outputs": [],
   "source": [
    "# Exercise 9 - Make a variable named fruits_with_letter_a that contains a list of only the fruits that contain the letter \"a\"\n"
   ]
  },
  {
   "cell_type": "code",
   "execution_count": 205,
   "id": "f82921f8",
   "metadata": {},
   "outputs": [
    {
     "data": {
      "text/plain": [
       "['mango', 'strawberry', 'guava', 'pineapple', 'mandarin orange']"
      ]
     },
     "execution_count": 205,
     "metadata": {},
     "output_type": "execute_result"
    }
   ],
   "source": [
    "def contains_a(fruit):\n",
    "    return len([letter for letter in fruit if letter == 'a']) > 0\n",
    "fruits_with_letter_a = [fruit for fruit in fruits if contains_a(fruit)]\n",
    "fruits_with_letter_a"
   ]
  },
  {
   "cell_type": "code",
   "execution_count": 206,
   "id": "8d0c49ab",
   "metadata": {},
   "outputs": [],
   "source": [
    "#even numbers"
   ]
  },
  {
   "cell_type": "code",
   "execution_count": 212,
   "id": "adcd7389",
   "metadata": {},
   "outputs": [],
   "source": [
    "numbers = [2, 3, 4, 5, 6, 7, 8, 9, 10, 11, 13, 17, 19, 23, 256, -8, -4, -2, 5, -9]\n"
   ]
  },
  {
   "cell_type": "code",
   "execution_count": 214,
   "id": "fed38086",
   "metadata": {},
   "outputs": [
    {
     "data": {
      "text/plain": [
       "[2, 4, 6, 8, 10, 256, -8, -4, -2]"
      ]
     },
     "execution_count": 214,
     "metadata": {},
     "output_type": "execute_result"
    }
   ],
   "source": [
    "even_numbers = [number for number in numbers if number % 2 == 0]\n",
    "even_numbers"
   ]
  },
  {
   "cell_type": "code",
   "execution_count": 215,
   "id": "dc8a4ae2",
   "metadata": {},
   "outputs": [],
   "source": [
    "#14 two or more numerals"
   ]
  },
  {
   "cell_type": "code",
   "execution_count": 216,
   "id": "326e600d",
   "metadata": {},
   "outputs": [
    {
     "data": {
      "text/plain": [
       "[10, 11, 13, 17, 19, 23, 256]"
      ]
     },
     "execution_count": 216,
     "metadata": {},
     "output_type": "execute_result"
    }
   ],
   "source": [
    "[number for number in numbers if len(str(abs(number))) >= 2]"
   ]
  },
  {
   "cell_type": "code",
   "execution_count": 217,
   "id": "38e66f49",
   "metadata": {},
   "outputs": [],
   "source": [
    "#15 numbers squared"
   ]
  },
  {
   "cell_type": "code",
   "execution_count": 218,
   "id": "10c48bf6",
   "metadata": {},
   "outputs": [
    {
     "data": {
      "text/plain": [
       "[4,\n",
       " 9,\n",
       " 16,\n",
       " 25,\n",
       " 36,\n",
       " 49,\n",
       " 64,\n",
       " 81,\n",
       " 100,\n",
       " 121,\n",
       " 169,\n",
       " 289,\n",
       " 361,\n",
       " 529,\n",
       " 65536,\n",
       " 64,\n",
       " 16,\n",
       " 4,\n",
       " 25,\n",
       " 81]"
      ]
     },
     "execution_count": 218,
     "metadata": {},
     "output_type": "execute_result"
    }
   ],
   "source": [
    "numbers_squared = [number ** 2 for number in numbers]\n",
    "numbers_squared"
   ]
  },
  {
   "cell_type": "code",
   "execution_count": 219,
   "id": "3732ae7e",
   "metadata": {},
   "outputs": [],
   "source": [
    "#16 odd neg nos"
   ]
  },
  {
   "cell_type": "code",
   "execution_count": 231,
   "id": "e91ad771",
   "metadata": {},
   "outputs": [
    {
     "data": {
      "text/plain": [
       "[-9]"
      ]
     },
     "execution_count": 231,
     "metadata": {},
     "output_type": "execute_result"
    }
   ],
   "source": [
    "odd_negative_numbers = [number for number in numbers if (number % 2 != 0) and (number < 0)]\n",
    "odd_negative_numbers"
   ]
  },
  {
   "cell_type": "code",
   "execution_count": 232,
   "id": "49090942",
   "metadata": {},
   "outputs": [
    {
     "data": {
      "text/plain": [
       "[7, 8, 9, 10, 11, 12, 13, 14, 15, 16, 18, 22, 24, 28, 261, -3, 1, 3, 10, -4]"
      ]
     },
     "execution_count": 232,
     "metadata": {},
     "output_type": "execute_result"
    }
   ],
   "source": [
    "#17 numbers plus five\n",
    "[number + 5 for number in numbers]"
   ]
  },
  {
   "cell_type": "markdown",
   "id": "f6094f83",
   "metadata": {},
   "source": [
    "BONUS QUESTION: prime numbers in list"
   ]
  },
  {
   "cell_type": "code",
   "execution_count": 228,
   "id": "5ec0fdca",
   "metadata": {},
   "outputs": [
    {
     "data": {
      "text/plain": [
       "[2, 3, 5, 7, 11, 13, 17, 19, 23, 5]"
      ]
     },
     "execution_count": 228,
     "metadata": {},
     "output_type": "execute_result"
    }
   ],
   "source": [
    "def is_prime(number):\n",
    "    #if number is not positive ret false else check for primeness\n",
    "    if number <= 0:\n",
    "        return False\n",
    "    else:\n",
    "        #get nos in range 2 through the input no-1.  basically, we're dividing the no by every no underneath it\n",
    "        dividers = [r for r in range(2, number)]\n",
    "        #get a list of all nos in dividers that divide the input no evenly, ret if list len is greater than 0, it's not prime\n",
    "        return len([divider for divider in dividers if number % divider == 0]) == 0\n",
    "[number for number in numbers if is_prime(number)]"
   ]
  },
  {
   "cell_type": "code",
   "execution_count": null,
   "id": "27b30d1e",
   "metadata": {},
   "outputs": [],
   "source": []
  }
 ],
 "metadata": {
  "kernelspec": {
   "display_name": "Python 3",
   "language": "python",
   "name": "python3"
  },
  "language_info": {
   "codemirror_mode": {
    "name": "ipython",
    "version": 3
   },
   "file_extension": ".py",
   "mimetype": "text/x-python",
   "name": "python",
   "nbconvert_exporter": "python",
   "pygments_lexer": "ipython3",
   "version": "3.8.8"
  }
 },
 "nbformat": 4,
 "nbformat_minor": 5
}
