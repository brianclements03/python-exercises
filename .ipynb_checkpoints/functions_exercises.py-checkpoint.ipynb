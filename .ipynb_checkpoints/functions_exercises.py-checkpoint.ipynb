{
 "cells": [
  {
   "cell_type": "markdown",
   "id": "4702b80f",
   "metadata": {},
   "source": [
    "- Define a function named is_two. It should accept one input and return True if the passed input is either the number or the string 2, False otherwise.\n"
   ]
  },
  {
   "cell_type": "code",
   "execution_count": 4,
   "id": "a0992b52",
   "metadata": {},
   "outputs": [
    {
     "data": {
      "text/plain": [
       "False"
      ]
     },
     "execution_count": 4,
     "metadata": {},
     "output_type": "execute_result"
    }
   ],
   "source": [
    "def is_two(x):\n",
    "    if x == 2:\n",
    "        return True\n",
    "    else:\n",
    "        return False\n",
    "is_two(5)"
   ]
  },
  {
   "cell_type": "markdown",
   "id": "6ed3ce5c",
   "metadata": {},
   "source": [
    "- Define a function named is_vowel. It should return True if the passed string is a vowel, False otherwise."
   ]
  },
  {
   "cell_type": "code",
   "execution_count": 86,
   "id": "e3cf59c7",
   "metadata": {},
   "outputs": [],
   "source": [
    "def is_vowel(x):\n",
    "    vowels = ['a', 'e', 'i', 'o', 'u']\n",
    "    x = str(x)\n",
    "    if x.lower() in vowels:\n",
    "        return True\n",
    "    else:\n",
    "        return False\n",
    "#i'd like to get this working so that you don't need \"\" in the input below"
   ]
  },
  {
   "cell_type": "code",
   "execution_count": 87,
   "id": "b46fc2e8",
   "metadata": {},
   "outputs": [
    {
     "data": {
      "text/plain": [
       "False"
      ]
     },
     "execution_count": 87,
     "metadata": {},
     "output_type": "execute_result"
    }
   ],
   "source": [
    "is_vowel('F')"
   ]
  },
  {
   "cell_type": "markdown",
   "id": "c4e5ac10",
   "metadata": {},
   "source": [
    "- Define a function named is_consonant. It should return True if the passed string is a consonant, False otherwise. Use your is_vowel function to accomplish this."
   ]
  },
  {
   "cell_type": "code",
   "execution_count": 84,
   "id": "c817750e",
   "metadata": {},
   "outputs": [],
   "source": [
    "def is_consonant(x):\n",
    "    vowels = ['a', 'e', 'i', 'o', 'u']\n",
    "    x = str(x)\n",
    "    if x.lower() not in vowels:\n",
    "        return True\n",
    "    else:\n",
    "        return False"
   ]
  },
  {
   "cell_type": "code",
   "execution_count": 101,
   "id": "a2512d72",
   "metadata": {},
   "outputs": [
    {
     "data": {
      "text/plain": [
       "False"
      ]
     },
     "execution_count": 101,
     "metadata": {},
     "output_type": "execute_result"
    }
   ],
   "source": [
    "is_consonant('o')"
   ]
  },
  {
   "cell_type": "markdown",
   "id": "d2bd16a2",
   "metadata": {},
   "source": [
    "- Define a function that accepts a string that is a word. \n",
    "- The function should capitalize the first letter of the word if the word starts with a consonant."
   ]
  },
  {
   "cell_type": "code",
   "execution_count": 118,
   "id": "890d25bf",
   "metadata": {},
   "outputs": [],
   "source": [
    "def cap_consonant(x):\n",
    "    if is_consonant(x[0]) == True:\n",
    "        return x.capitalize()\n",
    "    else:\n",
    "        return x"
   ]
  },
  {
   "cell_type": "code",
   "execution_count": 122,
   "id": "43090483",
   "metadata": {},
   "outputs": [
    {
     "data": {
      "text/plain": [
       "'Fail'"
      ]
     },
     "execution_count": 122,
     "metadata": {},
     "output_type": "execute_result"
    }
   ],
   "source": [
    "cap_consonant('fail')"
   ]
  },
  {
   "cell_type": "markdown",
   "id": "e6dab88f",
   "metadata": {},
   "source": [
    "- Define a function named calculate_tip. It should accept a tip percentage (a number between 0 and 1) and the bill total, and return the amount to tip."
   ]
  },
  {
   "cell_type": "code",
   "execution_count": 130,
   "id": "39052e71",
   "metadata": {},
   "outputs": [
    {
     "name": "stdout",
     "output_type": "stream",
     "text": [
      "14.94\n"
     ]
    }
   ],
   "source": [
    "def calculate_tip(tip, bill):\n",
    "    return bill * tip\n",
    "print(calculate_tip(.18, 83))"
   ]
  },
  {
   "cell_type": "markdown",
   "id": "fca707c8",
   "metadata": {},
   "source": [
    "- Define a function named apply_discount. \n",
    "- It should accept a original price, and a discount percentage, and return the price after the discount is applied."
   ]
  },
  {
   "cell_type": "code",
   "execution_count": 131,
   "id": "47cd5c5d",
   "metadata": {},
   "outputs": [],
   "source": [
    "def apply_discount(price, discount):\n",
    "    return price - price * discount"
   ]
  },
  {
   "cell_type": "code",
   "execution_count": 132,
   "id": "ee1a0679",
   "metadata": {},
   "outputs": [
    {
     "data": {
      "text/plain": [
       "63.0"
      ]
     },
     "execution_count": 132,
     "metadata": {},
     "output_type": "execute_result"
    }
   ],
   "source": [
    "apply_discount(90, .3)"
   ]
  },
  {
   "cell_type": "markdown",
   "id": "85de5445",
   "metadata": {},
   "source": [
    "- Define a function named handle_commas. \n",
    "- It should accept a string that is a number that contains commas in it as input, and return a number as output."
   ]
  },
  {
   "cell_type": "code",
   "execution_count": 140,
   "id": "dded843d",
   "metadata": {},
   "outputs": [],
   "source": [
    "def handle_commas(x):\n",
    "    return int(x.replace(\",\",\"\"))"
   ]
  },
  {
   "cell_type": "code",
   "execution_count": 141,
   "id": "28f41cbd",
   "metadata": {},
   "outputs": [
    {
     "data": {
      "text/plain": [
       "100000"
      ]
     },
     "execution_count": 141,
     "metadata": {},
     "output_type": "execute_result"
    }
   ],
   "source": [
    "handle_commas('100,000')"
   ]
  },
  {
   "cell_type": "markdown",
   "id": "a79130b6",
   "metadata": {},
   "source": [
    "- Define a function named get_letter_grade. \n",
    "- It should accept a number and return the letter grade associated with that number (A-F)."
   ]
  },
  {
   "cell_type": "code",
   "execution_count": 145,
   "id": "fca5337e",
   "metadata": {},
   "outputs": [],
   "source": [
    "def get_letter_grade(x):\n",
    "    if x >= 90:\n",
    "        return('A')\n",
    "    elif x >= 80:    \n",
    "        return('B')\n",
    "    elif x >= 70:\n",
    "        return('C')\n",
    "    elif x >= 60:\n",
    "        return('D')\n",
    "    else:\n",
    "        return('F')"
   ]
  },
  {
   "cell_type": "code",
   "execution_count": 146,
   "id": "575e3133",
   "metadata": {},
   "outputs": [
    {
     "data": {
      "text/plain": [
       "'B'"
      ]
     },
     "execution_count": 146,
     "metadata": {},
     "output_type": "execute_result"
    }
   ],
   "source": [
    "get_letter_grade(88)"
   ]
  },
  {
   "cell_type": "markdown",
   "id": "f918fd78",
   "metadata": {},
   "source": [
    "- Define a function named remove_vowels that accepts a string and returns a string with all the vowels removed."
   ]
  },
  {
   "cell_type": "code",
   "execution_count": 180,
   "id": "5e2dff91",
   "metadata": {},
   "outputs": [],
   "source": [
    "def remove_vowels(word):\n",
    "    for letter in word:\n",
    "        if is_vowel(letter) == True:\n",
    "            word = word.replace(letter,\"\")\n",
    "    return word\n",
    "\n",
    "#     word = list(word)\n",
    "#     return [letter for letter in word if is_vowel == False]\n",
    "    "
   ]
  },
  {
   "cell_type": "code",
   "execution_count": 181,
   "id": "05dcaac7",
   "metadata": {},
   "outputs": [
    {
     "name": "stdout",
     "output_type": "stream",
     "text": [
      "lvndjy\n"
     ]
    }
   ],
   "source": [
    "print(remove_vowels('loveandjoy'))"
   ]
  },
  {
   "cell_type": "markdown",
   "id": "9c0f8e13",
   "metadata": {},
   "source": [
    "- Define a function named `normalize_name`. \n",
    "- It should accept a string and return a valid python identifier, that is:\n",
    "    - anything that is not a valid python identifier should be removed\n",
    "    - leading and trailing whitespace should be removed\n",
    "    - everything should be lowercase\n",
    "    - spaces should be replaced with underscores\n",
    "- for example:\n",
    "    - `Name` will become `name`\n",
    "    - `First Name` will become `first_name`\n",
    "    - `% Completed` will become `completed`"
   ]
  },
  {
   "cell_type": "code",
   "execution_count": 279,
   "id": "27a4903c",
   "metadata": {},
   "outputs": [],
   "source": [
    "def normalize_name(input):\n",
    "    input = input.strip()\n",
    "    input = input.replace(\" \",\"_\")\n",
    "    for character in input:\n",
    "        if character.isidentifier() == False:\n",
    "            input = input.replace(character,\"\")\n",
    "    return input.lower()\n",
    "\n",
    "\n",
    "\n",
    "#ask about the little \"middle spaces\" problem during review"
   ]
  },
  {
   "cell_type": "code",
   "execution_count": 280,
   "id": "4eb4ae03",
   "metadata": {},
   "outputs": [
    {
     "data": {
      "text/plain": [
       "'___first_name_'"
      ]
     },
     "execution_count": 280,
     "metadata": {},
     "output_type": "execute_result"
    }
   ],
   "source": [
    "normalize_name('  %   First name # ')"
   ]
  },
  {
   "cell_type": "markdown",
   "id": "5466efe5",
   "metadata": {},
   "source": [
    "- Write a function named cumulative_sum \n",
    "- that accepts a list of numbers and returns a list that is the cumulative sum of the numbers in the list.\n",
    "    - cumulative_sum([1, 1, 1]) returns [1, 2, 3]\n",
    "    - cumulative_sum([1, 2, 3, 4]) returns [1, 3, 6, 10]"
   ]
  },
  {
   "cell_type": "code",
   "execution_count": 339,
   "id": "f10df12c",
   "metadata": {},
   "outputs": [],
   "source": [
    "# def cumulative_sum(x):\n",
    "#     for n in range(n-n, n):\n",
    "#         i = 0\n",
    "#         #while n <= \n",
    "#         return [f'x[n-n+i], x[n-n]+x[n-(n-1)], x[n-n]+x[n-(n-1)]+x[n-(n-2)]]\n",
    "\n",
    "\n",
    "def cumulative_sum(x):\n",
    "    n = len(x)\n",
    "    for n in range(n-n, n):\n",
    "        i = 0\n",
    "        while i <= n:\n",
    "            return [x[n-n+i], x]\n",
    "            i += 1\n",
    "        break"
   ]
  },
  {
   "cell_type": "code",
   "execution_count": 340,
   "id": "92f45bec",
   "metadata": {},
   "outputs": [
    {
     "data": {
      "text/plain": [
       "[1, [1, 2, 3]]"
      ]
     },
     "execution_count": 340,
     "metadata": {},
     "output_type": "execute_result"
    }
   ],
   "source": [
    "cumulative_sum([1, 2, 3])"
   ]
  },
  {
   "cell_type": "markdown",
   "id": "76059ab9",
   "metadata": {},
   "source": [
    "[x[n-n], x[n-n + i], ... , x[n]]"
   ]
  }
 ],
 "metadata": {
  "kernelspec": {
   "display_name": "Python 3",
   "language": "python",
   "name": "python3"
  },
  "language_info": {
   "codemirror_mode": {
    "name": "ipython",
    "version": 3
   },
   "file_extension": ".py",
   "mimetype": "text/x-python",
   "name": "python",
   "nbconvert_exporter": "python",
   "pygments_lexer": "ipython3",
   "version": "3.8.8"
  }
 },
 "nbformat": 4,
 "nbformat_minor": 5
}
