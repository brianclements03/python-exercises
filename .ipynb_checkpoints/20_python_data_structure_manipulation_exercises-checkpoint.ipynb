{
 "cells": [
  {
   "cell_type": "markdown",
   "id": "56e6b030",
   "metadata": {},
   "source": [
    "# 20 Python Data Structure Manipulation Exercises\n",
    "\n",
    "### The following questions reference the students data structure below. Write the python code to answer the following questions:\n",
    "\n"
   ]
  },
  {
   "cell_type": "code",
   "execution_count": 3,
   "id": "c90ed1f8",
   "metadata": {},
   "outputs": [],
   "source": [
    "students = [\n",
    "    {\n",
    "        \"id\": \"100001\",\n",
    "        \"student\": \"Ada Lovelace\",\n",
    "        \"coffee_preference\": \"light\",\n",
    "        \"course\": \"web development\",\n",
    "        \"grades\": [70, 91, 82, 71],\n",
    "        \"pets\": [{\"species\": \"horse\", \"age\": 8}],\n",
    "    },\n",
    "    {\n",
    "        \"id\": \"100002\",\n",
    "        \"student\": \"Thomas Bayes\",\n",
    "        \"coffee_preference\": \"medium\",\n",
    "        \"course\": \"data science\",\n",
    "        \"grades\": [75, 73, 86, 100],\n",
    "        \"pets\": [],\n",
    "    },\n",
    "    {\n",
    "        \"id\": \"100003\",\n",
    "        \"student\": \"Marie Curie\",\n",
    "        \"coffee_preference\": \"light\",\n",
    "        \"course\": \"web development\",\n",
    "        \"grades\": [70, 89, 69, 65],\n",
    "        \"pets\": [{\"species\": \"cat\", \"age\": 0}],\n",
    "    },\n",
    "    {\n",
    "        \"id\": \"100004\",\n",
    "        \"student\": \"Grace Hopper\",\n",
    "        \"coffee_preference\": \"dark\",\n",
    "        \"course\": \"data science\",\n",
    "        \"grades\": [73, 66, 83, 92],\n",
    "        \"pets\": [{\"species\": \"dog\", \"age\": 4}, {\"species\": \"cat\", \"age\": 4}],\n",
    "    },\n",
    "    {\n",
    "        \"id\": \"100005\",\n",
    "        \"student\": \"Alan Turing\",\n",
    "        \"coffee_preference\": \"dark\",\n",
    "        \"course\": \"web development\",\n",
    "        \"grades\": [78, 98, 85, 65],\n",
    "        \"pets\": [\n",
    "            {\"species\": \"horse\", \"age\": 6},\n",
    "            {\"species\": \"horse\", \"age\": 7},\n",
    "            {\"species\": \"dog\", \"age\": 5},\n",
    "        ],\n",
    "    },\n",
    "    {\n",
    "        \"id\": \"100006\",\n",
    "        \"student\": \"Rosalind Franklin\",\n",
    "        \"coffee_preference\": \"dark\",\n",
    "        \"course\": \"data science\",\n",
    "        \"grades\": [76, 70, 96, 81],\n",
    "        \"pets\": [],\n",
    "    },\n",
    "    {\n",
    "        \"id\": \"100007\",\n",
    "        \"student\": \"Elizabeth Blackwell\",\n",
    "        \"coffee_preference\": \"dark\",\n",
    "        \"course\": \"web development\",\n",
    "        \"grades\": [69, 94, 89, 86],\n",
    "        \"pets\": [{\"species\": \"cat\", \"age\": 10}],\n",
    "    },\n",
    "    {\n",
    "        \"id\": \"100008\",\n",
    "        \"student\": \"Rene Descartes\",\n",
    "        \"coffee_preference\": \"medium\",\n",
    "        \"course\": \"data science\",\n",
    "        \"grades\": [87, 79, 90, 99],\n",
    "        \"pets\": [{\"species\": \"cat\", \"age\": 10}, {\"species\": \"cat\", \"age\": 8}],\n",
    "    },\n",
    "    {\n",
    "        \"id\": \"100009\",\n",
    "        \"student\": \"Ahmed Zewail\",\n",
    "        \"coffee_preference\": \"medium\",\n",
    "        \"course\": \"data science\",\n",
    "        \"grades\": [74, 99, 93, 89],\n",
    "        \"pets\": [{\"species\": \"cat\", \"age\": 0}, {\"species\": \"cat\", \"age\": 0}],\n",
    "    },\n",
    "    {\n",
    "        \"id\": \"100010\",\n",
    "        \"student\": \"Chien-Shiung Wu\",\n",
    "        \"coffee_preference\": \"medium\",\n",
    "        \"course\": \"web development\",\n",
    "        \"grades\": [82, 92, 91, 65],\n",
    "        \"pets\": [{\"species\": \"cat\", \"age\": 8}],\n",
    "    },\n",
    "    {\n",
    "        \"id\": \"100011\",\n",
    "        \"student\": \"William Sanford Nye\",\n",
    "        \"coffee_preference\": \"dark\",\n",
    "        \"course\": \"data science\",\n",
    "        \"grades\": [70, 92, 65, 99],\n",
    "        \"pets\": [{\"species\": \"cat\", \"age\": 8}, {\"species\": \"cat\", \"age\": 5}],\n",
    "    },\n",
    "    {\n",
    "        \"id\": \"100012\",\n",
    "        \"student\": \"Carl Sagan\",\n",
    "        \"coffee_preference\": \"medium\",\n",
    "        \"course\": \"data science\",\n",
    "        \"grades\": [100, 86, 91, 87],\n",
    "        \"pets\": [{\"species\": \"cat\", \"age\": 10}],\n",
    "    },\n",
    "    {\n",
    "        \"id\": \"100013\",\n",
    "        \"student\": \"Jane Goodall\",\n",
    "        \"coffee_preference\": \"light\",\n",
    "        \"course\": \"web development\",\n",
    "        \"grades\": [80, 70, 68, 98],\n",
    "        \"pets\": [{\"species\": \"horse\", \"age\": 4}],\n",
    "    },\n",
    "    {\n",
    "        \"id\": \"100014\",\n",
    "        \"student\": \"Richard Feynman\",\n",
    "        \"coffee_preference\": \"medium\",\n",
    "        \"course\": \"web development\",\n",
    "        \"grades\": [73, 99, 86, 98],\n",
    "        \"pets\": [{\"species\": \"dog\", \"age\": 6}],\n",
    "    },\n",
    "]"
   ]
  },
  {
   "cell_type": "markdown",
   "id": "0ff51d46",
   "metadata": {},
   "source": [
    "- How many students are there?\n",
    "\n"
   ]
  },
  {
   "cell_type": "code",
   "execution_count": 4,
   "id": "b70947c3",
   "metadata": {},
   "outputs": [
    {
     "data": {
      "text/plain": [
       "14"
      ]
     },
     "execution_count": 4,
     "metadata": {},
     "output_type": "execute_result"
    }
   ],
   "source": [
    "len(students)"
   ]
  },
  {
   "cell_type": "markdown",
   "id": "05799652",
   "metadata": {},
   "source": [
    "- How many students prefer light coffee? For each type of coffee roast?\n",
    "\n"
   ]
  },
  {
   "cell_type": "code",
   "execution_count": 5,
   "id": "1c027764",
   "metadata": {},
   "outputs": [
    {
     "data": {
      "text/plain": [
       "['light',\n",
       " 'medium',\n",
       " 'light',\n",
       " 'dark',\n",
       " 'dark',\n",
       " 'dark',\n",
       " 'dark',\n",
       " 'medium',\n",
       " 'medium',\n",
       " 'medium',\n",
       " 'dark',\n",
       " 'medium',\n",
       " 'light',\n",
       " 'medium']"
      ]
     },
     "execution_count": 5,
     "metadata": {},
     "output_type": "execute_result"
    }
   ],
   "source": [
    "list = []\n",
    "for student in students:\n",
    "    list.append(student['coffee_preference'])\n",
    "list    "
   ]
  },
  {
   "cell_type": "code",
   "execution_count": 6,
   "id": "e7e86d0d",
   "metadata": {},
   "outputs": [
    {
     "name": "stdout",
     "output_type": "stream",
     "text": [
      "light 3\n",
      "medium 6\n",
      "light 3\n",
      "dark 5\n",
      "dark 5\n",
      "dark 5\n",
      "dark 5\n",
      "medium 6\n",
      "medium 6\n",
      "medium 6\n",
      "dark 5\n",
      "medium 6\n",
      "light 3\n",
      "medium 6\n"
     ]
    }
   ],
   "source": [
    "for item in list: #this almost gets us there, but is returning the count through and through the list\n",
    "    print(item, list.count(item)) #therefore, the set is required\n",
    "#also, this step was completely unecessary tbh"
   ]
  },
  {
   "cell_type": "code",
   "execution_count": 7,
   "id": "8ea329c9",
   "metadata": {},
   "outputs": [
    {
     "data": {
      "text/plain": [
       "{'dark', 'light', 'medium'}"
      ]
     },
     "execution_count": 7,
     "metadata": {},
     "output_type": "execute_result"
    }
   ],
   "source": [
    "list_set = set(list)\n",
    "list_set"
   ]
  },
  {
   "cell_type": "code",
   "execution_count": 8,
   "id": "241697ea",
   "metadata": {},
   "outputs": [
    {
     "data": {
      "text/plain": [
       "3"
      ]
     },
     "execution_count": 8,
     "metadata": {},
     "output_type": "execute_result"
    }
   ],
   "source": [
    "list.count('light')"
   ]
  },
  {
   "cell_type": "code",
   "execution_count": 9,
   "id": "bb53e02b",
   "metadata": {},
   "outputs": [
    {
     "name": "stdout",
     "output_type": "stream",
     "text": [
      "light 3\n",
      "dark 5\n",
      "medium 6\n"
     ]
    }
   ],
   "source": [
    "for item in list_set:\n",
    "    print(item, list.count(item)) #the .count() is working on the LIST\n",
    "#WHEREAS the for loop is working in the SET only.  otherwise you get the result seen above"
   ]
  },
  {
   "cell_type": "markdown",
   "id": "d5e8ba26",
   "metadata": {},
   "source": [
    "- How many types of each pet are there?\n",
    "\n"
   ]
  },
  {
   "cell_type": "markdown",
   "id": "3f21ddaf",
   "metadata": {},
   "source": [
    "    {\n",
    "        \"id\": \"100014\",\n",
    "        \"student\": \"Richard Feynman\",\n",
    "        \"coffee_preference\": \"medium\",\n",
    "        \"course\": \"web development\",\n",
    "        \"grades\": [73, 99, 86, 98],\n",
    "        \"pets\": [{\"species\": \"dog\", \"age\": 6}],\n",
    "    },"
   ]
  },
  {
   "cell_type": "code",
   "execution_count": 11,
   "id": "eea27e25",
   "metadata": {},
   "outputs": [
    {
     "data": {
      "text/plain": [
       "[[{'species': 'horse', 'age': 8}],\n",
       " [{'species': 'horse', 'age': 8}],\n",
       " [{'species': 'horse', 'age': 8}],\n",
       " [{'species': 'horse', 'age': 8}],\n",
       " [{'species': 'horse', 'age': 8}],\n",
       " [{'species': 'horse', 'age': 8}],\n",
       " [],\n",
       " [],\n",
       " [],\n",
       " [],\n",
       " [],\n",
       " [],\n",
       " [{'species': 'cat', 'age': 0}],\n",
       " [{'species': 'cat', 'age': 0}],\n",
       " [{'species': 'cat', 'age': 0}],\n",
       " [{'species': 'cat', 'age': 0}],\n",
       " [{'species': 'cat', 'age': 0}],\n",
       " [{'species': 'cat', 'age': 0}],\n",
       " [{'species': 'dog', 'age': 4}, {'species': 'cat', 'age': 4}],\n",
       " [{'species': 'dog', 'age': 4}, {'species': 'cat', 'age': 4}],\n",
       " [{'species': 'dog', 'age': 4}, {'species': 'cat', 'age': 4}],\n",
       " [{'species': 'dog', 'age': 4}, {'species': 'cat', 'age': 4}],\n",
       " [{'species': 'dog', 'age': 4}, {'species': 'cat', 'age': 4}],\n",
       " [{'species': 'dog', 'age': 4}, {'species': 'cat', 'age': 4}],\n",
       " [{'species': 'horse', 'age': 6},\n",
       "  {'species': 'horse', 'age': 7},\n",
       "  {'species': 'dog', 'age': 5}],\n",
       " [{'species': 'horse', 'age': 6},\n",
       "  {'species': 'horse', 'age': 7},\n",
       "  {'species': 'dog', 'age': 5}],\n",
       " [{'species': 'horse', 'age': 6},\n",
       "  {'species': 'horse', 'age': 7},\n",
       "  {'species': 'dog', 'age': 5}],\n",
       " [{'species': 'horse', 'age': 6},\n",
       "  {'species': 'horse', 'age': 7},\n",
       "  {'species': 'dog', 'age': 5}],\n",
       " [{'species': 'horse', 'age': 6},\n",
       "  {'species': 'horse', 'age': 7},\n",
       "  {'species': 'dog', 'age': 5}],\n",
       " [{'species': 'horse', 'age': 6},\n",
       "  {'species': 'horse', 'age': 7},\n",
       "  {'species': 'dog', 'age': 5}],\n",
       " [],\n",
       " [],\n",
       " [],\n",
       " [],\n",
       " [],\n",
       " [],\n",
       " [{'species': 'cat', 'age': 10}],\n",
       " [{'species': 'cat', 'age': 10}],\n",
       " [{'species': 'cat', 'age': 10}],\n",
       " [{'species': 'cat', 'age': 10}],\n",
       " [{'species': 'cat', 'age': 10}],\n",
       " [{'species': 'cat', 'age': 10}],\n",
       " [{'species': 'cat', 'age': 10}, {'species': 'cat', 'age': 8}],\n",
       " [{'species': 'cat', 'age': 10}, {'species': 'cat', 'age': 8}],\n",
       " [{'species': 'cat', 'age': 10}, {'species': 'cat', 'age': 8}],\n",
       " [{'species': 'cat', 'age': 10}, {'species': 'cat', 'age': 8}],\n",
       " [{'species': 'cat', 'age': 10}, {'species': 'cat', 'age': 8}],\n",
       " [{'species': 'cat', 'age': 10}, {'species': 'cat', 'age': 8}],\n",
       " [{'species': 'cat', 'age': 0}, {'species': 'cat', 'age': 0}],\n",
       " [{'species': 'cat', 'age': 0}, {'species': 'cat', 'age': 0}],\n",
       " [{'species': 'cat', 'age': 0}, {'species': 'cat', 'age': 0}],\n",
       " [{'species': 'cat', 'age': 0}, {'species': 'cat', 'age': 0}],\n",
       " [{'species': 'cat', 'age': 0}, {'species': 'cat', 'age': 0}],\n",
       " [{'species': 'cat', 'age': 0}, {'species': 'cat', 'age': 0}],\n",
       " [{'species': 'cat', 'age': 8}],\n",
       " [{'species': 'cat', 'age': 8}],\n",
       " [{'species': 'cat', 'age': 8}],\n",
       " [{'species': 'cat', 'age': 8}],\n",
       " [{'species': 'cat', 'age': 8}],\n",
       " [{'species': 'cat', 'age': 8}],\n",
       " [{'species': 'cat', 'age': 8}, {'species': 'cat', 'age': 5}],\n",
       " [{'species': 'cat', 'age': 8}, {'species': 'cat', 'age': 5}],\n",
       " [{'species': 'cat', 'age': 8}, {'species': 'cat', 'age': 5}],\n",
       " [{'species': 'cat', 'age': 8}, {'species': 'cat', 'age': 5}],\n",
       " [{'species': 'cat', 'age': 8}, {'species': 'cat', 'age': 5}],\n",
       " [{'species': 'cat', 'age': 8}, {'species': 'cat', 'age': 5}],\n",
       " [{'species': 'cat', 'age': 10}],\n",
       " [{'species': 'cat', 'age': 10}],\n",
       " [{'species': 'cat', 'age': 10}],\n",
       " [{'species': 'cat', 'age': 10}],\n",
       " [{'species': 'cat', 'age': 10}],\n",
       " [{'species': 'cat', 'age': 10}],\n",
       " [{'species': 'horse', 'age': 4}],\n",
       " [{'species': 'horse', 'age': 4}],\n",
       " [{'species': 'horse', 'age': 4}],\n",
       " [{'species': 'horse', 'age': 4}],\n",
       " [{'species': 'horse', 'age': 4}],\n",
       " [{'species': 'horse', 'age': 4}],\n",
       " [{'species': 'dog', 'age': 6}],\n",
       " [{'species': 'dog', 'age': 6}],\n",
       " [{'species': 'dog', 'age': 6}],\n",
       " [{'species': 'dog', 'age': 6}],\n",
       " [{'species': 'dog', 'age': 6}],\n",
       " [{'species': 'dog', 'age': 6}]]"
      ]
     },
     "execution_count": 11,
     "metadata": {},
     "output_type": "execute_result"
    }
   ],
   "source": [
    "pets_list = []\n",
    "for student in students:\n",
    "    for pet in student:\n",
    "        pets_list.append(student['pets'])\n",
    "#     print(student['pets'])\n",
    "pets_list\n"
   ]
  },
  {
   "cell_type": "code",
   "execution_count": 12,
   "id": "b014c9ed",
   "metadata": {},
   "outputs": [],
   "source": [
    "#step 1; blow off the loop\n",
    "#2 make a single variable that holds the first element of the list\n",
    "#3 figure out what we need to do on that 1 element\n"
   ]
  },
  {
   "cell_type": "code",
   "execution_count": 34,
   "id": "2c73fd89",
   "metadata": {},
   "outputs": [
    {
     "data": {
      "text/plain": [
       "{'id': '100004',\n",
       " 'student': 'Grace Hopper',\n",
       " 'coffee_preference': 'dark',\n",
       " 'course': 'data science',\n",
       " 'grades': [73, 66, 83, 92],\n",
       " 'pets': [{'species': 'dog', 'age': 4}, {'species': 'cat', 'age': 4}]}"
      ]
     },
     "execution_count": 34,
     "metadata": {},
     "output_type": "execute_result"
    }
   ],
   "source": [
    "student = students[3]\n",
    "student"
   ]
  },
  {
   "cell_type": "code",
   "execution_count": 35,
   "id": "e1fa6653",
   "metadata": {},
   "outputs": [],
   "source": [
    "#this is step 3 now"
   ]
  },
  {
   "cell_type": "code",
   "execution_count": 36,
   "id": "c5be2ccd",
   "metadata": {},
   "outputs": [
    {
     "data": {
      "text/plain": [
       "[{'species': 'dog', 'age': 4}, {'species': 'cat', 'age': 4}]"
      ]
     },
     "execution_count": 36,
     "metadata": {},
     "output_type": "execute_result"
    }
   ],
   "source": [
    "pets = student['pets']\n",
    "pets"
   ]
  },
  {
   "cell_type": "code",
   "execution_count": 37,
   "id": "034069f1",
   "metadata": {},
   "outputs": [
    {
     "data": {
      "text/plain": [
       "['dog', 'cat']"
      ]
     },
     "execution_count": 37,
     "metadata": {},
     "output_type": "execute_result"
    }
   ],
   "source": [
    "#for each pet, append the specis string to a list of species\n",
    "species = []\n",
    "for pet in pets:\n",
    "    species.append(pet['species'])\n",
    "species"
   ]
  },
  {
   "cell_type": "code",
   "execution_count": 38,
   "id": "708e4d6d",
   "metadata": {},
   "outputs": [],
   "source": [
    "#magic...bring back the og loop and copy paste the above work into it"
   ]
  },
  {
   "cell_type": "code",
   "execution_count": 39,
   "id": "ef50a529",
   "metadata": {},
   "outputs": [
    {
     "data": {
      "text/plain": [
       "['horse',\n",
       " 'cat',\n",
       " 'dog',\n",
       " 'cat',\n",
       " 'horse',\n",
       " 'horse',\n",
       " 'dog',\n",
       " 'cat',\n",
       " 'cat',\n",
       " 'cat',\n",
       " 'cat',\n",
       " 'cat',\n",
       " 'cat',\n",
       " 'cat',\n",
       " 'cat',\n",
       " 'cat',\n",
       " 'horse',\n",
       " 'dog']"
      ]
     },
     "execution_count": 39,
     "metadata": {},
     "output_type": "execute_result"
    }
   ],
   "source": [
    "species = []\n",
    "for student in students:\n",
    "    pets = student['pets']\n",
    "    for pet in pets:\n",
    "        species.append(pet['species'])\n",
    "        \n",
    "species"
   ]
  },
  {
   "cell_type": "code",
   "execution_count": 40,
   "id": "25dd0b56",
   "metadata": {},
   "outputs": [],
   "source": [
    "import pandas as pd"
   ]
  },
  {
   "cell_type": "code",
   "execution_count": 41,
   "id": "9945c2d9",
   "metadata": {},
   "outputs": [],
   "source": [
    "# species = pd.Series(species)\n",
    "# species.value_counts()\n",
    "#this code ^^ works great but redefines the species variable. \n",
    "#for practice sake, i did it the hard way below:"
   ]
  },
  {
   "cell_type": "code",
   "execution_count": 42,
   "id": "a9c8b637",
   "metadata": {},
   "outputs": [
    {
     "data": {
      "text/plain": [
       "{'cat', 'dog', 'horse'}"
      ]
     },
     "execution_count": 42,
     "metadata": {},
     "output_type": "execute_result"
    }
   ],
   "source": [
    "species_set = set(species)\n",
    "species_set"
   ]
  },
  {
   "cell_type": "code",
   "execution_count": 43,
   "id": "688dfb2f",
   "metadata": {},
   "outputs": [
    {
     "name": "stdout",
     "output_type": "stream",
     "text": [
      "dog 3\n",
      "cat 11\n",
      "horse 4\n"
     ]
    }
   ],
   "source": [
    "for x in species_set:\n",
    "    print(x, species.count(x))"
   ]
  },
  {
   "cell_type": "markdown",
   "id": "bc76e1ae",
   "metadata": {},
   "source": [
    "- How many grades does each student have? Do they all have the same number of grades?\n"
   ]
  },
  {
   "cell_type": "code",
   "execution_count": 44,
   "id": "14a9844d",
   "metadata": {},
   "outputs": [
    {
     "data": {
      "text/plain": [
       "{'id': '100014',\n",
       " 'student': 'Richard Feynman',\n",
       " 'coffee_preference': 'medium',\n",
       " 'course': 'web development',\n",
       " 'grades': [73, 99, 86, 98],\n",
       " 'pets': [{'species': 'dog', 'age': 6}]}"
      ]
     },
     "execution_count": 44,
     "metadata": {},
     "output_type": "execute_result"
    }
   ],
   "source": [
    "student"
   ]
  },
  {
   "cell_type": "code",
   "execution_count": 24,
   "id": "68217924",
   "metadata": {},
   "outputs": [
    {
     "data": {
      "text/plain": [
       "[73, 99, 86, 98]"
      ]
     },
     "execution_count": 24,
     "metadata": {},
     "output_type": "execute_result"
    }
   ],
   "source": [
    "grades = student['grades']\n",
    "grades"
   ]
  },
  {
   "cell_type": "code",
   "execution_count": 25,
   "id": "bc1e9ca7",
   "metadata": {},
   "outputs": [
    {
     "data": {
      "text/plain": [
       "[4, 4, 4, 4, 4, 4, 4, 4, 4, 4, 4, 4, 4, 4]"
      ]
     },
     "execution_count": 25,
     "metadata": {},
     "output_type": "execute_result"
    }
   ],
   "source": [
    "# grades_list = []\n",
    "# for student in students:\n",
    "#     grades = student['grades']\n",
    "#     for grade in grades:\n",
    "#         grades_list.append(student['grades'])\n",
    "# grades_list\n",
    "##################you've got one loop too many or something##################\n",
    "\n",
    "grades_list = []\n",
    "for student in students:\n",
    "    grades_list.append(student['grades'])\n",
    "grades_list\n",
    "\n",
    "grades_list_len = []\n",
    "for x in grades_list:\n",
    "    grades_list_len.append(len(x))\n",
    "grades_list_len"
   ]
  },
  {
   "cell_type": "markdown",
   "id": "086deae1",
   "metadata": {},
   "source": [
    "- What is each student's grade average?\n"
   ]
  },
  {
   "cell_type": "code",
   "execution_count": 26,
   "id": "66cded46",
   "metadata": {},
   "outputs": [
    {
     "data": {
      "text/plain": [
       "[[70, 91, 82, 71],\n",
       " [75, 73, 86, 100],\n",
       " [70, 89, 69, 65],\n",
       " [73, 66, 83, 92],\n",
       " [78, 98, 85, 65],\n",
       " [76, 70, 96, 81],\n",
       " [69, 94, 89, 86],\n",
       " [87, 79, 90, 99],\n",
       " [74, 99, 93, 89],\n",
       " [82, 92, 91, 65],\n",
       " [70, 92, 65, 99],\n",
       " [100, 86, 91, 87],\n",
       " [80, 70, 68, 98],\n",
       " [73, 99, 86, 98]]"
      ]
     },
     "execution_count": 26,
     "metadata": {},
     "output_type": "execute_result"
    }
   ],
   "source": [
    "grades_list"
   ]
  },
  {
   "cell_type": "code",
   "execution_count": 27,
   "id": "01534791",
   "metadata": {},
   "outputs": [
    {
     "data": {
      "text/plain": [
       "[78.5,\n",
       " 83.5,\n",
       " 73.25,\n",
       " 78.5,\n",
       " 81.5,\n",
       " 80.75,\n",
       " 84.5,\n",
       " 88.75,\n",
       " 88.75,\n",
       " 82.5,\n",
       " 81.5,\n",
       " 91.0,\n",
       " 79.0,\n",
       " 89.0]"
      ]
     },
     "execution_count": 27,
     "metadata": {},
     "output_type": "execute_result"
    }
   ],
   "source": [
    "student_avg = []\n",
    "for x in grades_list:\n",
    "    student_avg.append(sum(x)/len(x))\n",
    "student_avg"
   ]
  },
  {
   "cell_type": "markdown",
   "id": "6dc1b911",
   "metadata": {},
   "source": [
    "- How many pets does each student have?\n",
    "- How many students are in web development? data science?\n",
    "- What is the average number of pets for students in web development?\n",
    "- What is the average pet age for students in data science?\n",
    "- What is most frequent coffee preference for data science students?\n",
    "- What is the least frequent coffee preference for web development students?\n",
    "- What is the average grade for students with at least 2 pets?\n",
    "- How many students have 3 pets?\n",
    "- What is the average grade for students with 0 pets?\n",
    "- What is the average grade for web development students? data science students?\n",
    "- What is the average grade range (i.e. highest grade - lowest grade) for dark coffee drinkers?\n",
    "- What is the average number of pets for medium coffee drinkers?\n",
    "- What is the most common type of pet for web development students?\n",
    "- What is the average name length?\n",
    "- What is the highest pet age for light coffee drinkers?"
   ]
  },
  {
   "cell_type": "code",
   "execution_count": 46,
   "id": "31f964f9",
   "metadata": {},
   "outputs": [
    {
     "data": {
      "text/plain": [
       "{'id': '100004',\n",
       " 'student': 'Grace Hopper',\n",
       " 'coffee_preference': 'dark',\n",
       " 'course': 'data science',\n",
       " 'grades': [73, 66, 83, 92],\n",
       " 'pets': [{'species': 'dog', 'age': 4}, {'species': 'cat', 'age': 4}]}"
      ]
     },
     "execution_count": 46,
     "metadata": {},
     "output_type": "execute_result"
    }
   ],
   "source": [
    "student = students[3]\n",
    "student"
   ]
  },
  {
   "cell_type": "code",
   "execution_count": 51,
   "id": "2bc6a0a7",
   "metadata": {},
   "outputs": [
    {
     "data": {
      "text/plain": [
       "2"
      ]
     },
     "execution_count": 51,
     "metadata": {},
     "output_type": "execute_result"
    }
   ],
   "source": [
    "num_pets = len(student['pets'])\n",
    "num_pets"
   ]
  },
  {
   "cell_type": "code",
   "execution_count": 56,
   "id": "382ff4b5",
   "metadata": {},
   "outputs": [
    {
     "name": "stdout",
     "output_type": "stream",
     "text": [
      "Ada Lovelace has 1 pets\n",
      "Thomas Bayes has 0 pets\n",
      "Marie Curie has 1 pets\n",
      "Grace Hopper has 2 pets\n",
      "Alan Turing has 3 pets\n",
      "Rosalind Franklin has 0 pets\n",
      "Elizabeth Blackwell has 1 pets\n",
      "Rene Descartes has 2 pets\n",
      "Ahmed Zewail has 2 pets\n",
      "Chien-Shiung Wu has 1 pets\n",
      "William Sanford Nye has 2 pets\n",
      "Carl Sagan has 1 pets\n",
      "Jane Goodall has 1 pets\n",
      "Richard Feynman has 1 pets\n"
     ]
    }
   ],
   "source": [
    "for student in students:\n",
    "    print(f\"{student['student']} has {len(student['pets'])} pets\")"
   ]
  },
  {
   "cell_type": "code",
   "execution_count": 58,
   "id": "af23966b",
   "metadata": {},
   "outputs": [
    {
     "data": {
      "text/plain": [
       "[1, 0, 1, 2, 3, 0, 1, 2, 2, 1, 2, 1, 1, 1]"
      ]
     },
     "execution_count": 58,
     "metadata": {},
     "output_type": "execute_result"
    }
   ],
   "source": [
    "test_list = []\n",
    "for student in students:\n",
    "    test_list.append(len(student['pets']))\n",
    "test_list\n",
    "#just confirming that I'm not an idiot. completely."
   ]
  },
  {
   "cell_type": "code",
   "execution_count": null,
   "id": "7b2ea356",
   "metadata": {},
   "outputs": [],
   "source": []
  }
 ],
 "metadata": {
  "kernelspec": {
   "display_name": "Python 3",
   "language": "python",
   "name": "python3"
  },
  "language_info": {
   "codemirror_mode": {
    "name": "ipython",
    "version": 3
   },
   "file_extension": ".py",
   "mimetype": "text/x-python",
   "name": "python",
   "nbconvert_exporter": "python",
   "pygments_lexer": "ipython3",
   "version": "3.8.8"
  }
 },
 "nbformat": 4,
 "nbformat_minor": 5
}
