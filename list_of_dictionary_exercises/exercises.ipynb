{
 "cells": [
  {
   "cell_type": "markdown",
   "metadata": {},
   "source": [
    "# Working with Lists of Dictionaries\n",
    "- Lists are lists of any value that we store in a single variable.\n",
    "    - Order matters because lists use a numeric index to access\n",
    "    - Any ordered list from the real word could be stored as a list in Python\n",
    "    - Lists can hold any data type, including other lists and commonly dictionaries.\n",
    "    - `[1, 2, 3, 4]` or `[\"this\", \"that\", \"the other\"]`\n",
    "\n",
    "\n",
    "- Dictionaries are like labeled lists with keys and values.\n",
    "    - Each key is like is own new variable name (kinda)\n",
    "    - We access values in dictionaries from their given key\n",
    "    - A real world example of a dictionary would be the nutritional facts for grocery items.\n",
    "    - The keys we see are \"calories\", \"carbs\", etc.. and the values are the appropriate values\n",
    "    - `{\"first_name\": \"Ryan\", \"last_name\": \"Orsinger\", \"favorite_language\": \"Python\"}`\n",
    "       \n",
    "       \n",
    "- Lists of dictionaries are _incredibly_ common in Python and other languages.\n",
    "\n",
    "- Database tables and spreadsheets are often represented by lists of dictionaries"
   ]
  },
  {
   "cell_type": "code",
   "execution_count": 1,
   "metadata": {},
   "outputs": [],
   "source": [
    "drinks = [\n",
    "    {\n",
    "        \"type\": \"water\",\n",
    "        \"calories\": 0,\n",
    "        \"number_consumed\": 7,\n",
    "        \"caffeinated\": False\n",
    "    },\n",
    "    {\n",
    "        \"type\": \"orange juice\",\n",
    "        \"calories\": 220,\n",
    "        \"number_consumed\": 4,\n",
    "        \"caffeinated\": False\n",
    "    },\n",
    "    {\n",
    "        \"type\": \"gatorade\",\n",
    "        \"calories\": 140,\n",
    "        \"number_consumed\": 1,\n",
    "        \"caffeinated\": False\n",
    "    },\n",
    "    {\n",
    "        \"type\": \"cappuccino\",\n",
    "        \"calories\": 350,\n",
    "        \"number_consumed\": 2,\n",
    "        \"caffeinated\": True\n",
    "    },\n",
    "    {\n",
    "        \"type\": \"hot tea\",\n",
    "        \"calories\": 5,\n",
    "        \"number_consumed\": 3,\n",
    "        \"caffeinated\": True\n",
    "    }\n",
    "]"
   ]
  },
  {
   "cell_type": "markdown",
   "metadata": {},
   "source": [
    "###### Exercise 1: How many different kinds of drinks are represented?\n",
    "\n",
    "- Manually counting things yourself is not the point of using a programming language\n",
    "- We'll want Python to count things for us.\n"
   ]
  },
  {
   "cell_type": "code",
   "execution_count": 2,
   "metadata": {},
   "outputs": [
    {
     "name": "stdout",
     "output_type": "stream",
     "text": [
      "there are 5 types of drink\n"
     ]
    }
   ],
   "source": [
    "# Exercise 1\n",
    "# How many different kinds of drinks?\n",
    "\n",
    "print(f\"there are {len(drinks)} types of drink\")"
   ]
  },
  {
   "cell_type": "markdown",
   "metadata": {},
   "source": [
    "###### Exercise 2: How many total consumed drinks?\n",
    "- We'll need to add up all of the numbers from each dictionary from the `number_consumed` key.\n"
   ]
  },
  {
   "cell_type": "code",
   "execution_count": 3,
   "metadata": {},
   "outputs": [
    {
     "name": "stdout",
     "output_type": "stream",
     "text": [
      "17\n"
     ]
    }
   ],
   "source": [
    "# Exercise 2\n",
    "# How many total consumed drinks?\n",
    "number_consumed = 0\n",
    "for drink in drinks:\n",
    "    number_consumed += drink['number_consumed']\n",
    "print(number_consumed)"
   ]
  },
  {
   "cell_type": "markdown",
   "metadata": {},
   "source": [
    "###### Exercise 3: How many total consumed calories?\n",
    "- Multiply each drink's calories by the number consumed, then sum each result from each drink"
   ]
  },
  {
   "cell_type": "code",
   "execution_count": 4,
   "metadata": {},
   "outputs": [
    {
     "name": "stdout",
     "output_type": "stream",
     "text": [
      "water = 0 calories consumed\n",
      "orange juice = 880 calories consumed\n",
      "gatorade = 140 calories consumed\n",
      "cappuccino = 700 calories consumed\n",
      "hot tea = 15 calories consumed\n"
     ]
    }
   ],
   "source": [
    "# Exercise 3\n",
    "# How many total consumed calories\n",
    "#total_cals_consumed = [] #i would have used this if building a new list\n",
    "for drink in drinks:\n",
    "    cals_consumed = (drink['calories'] * drink['number_consumed'])\n",
    "    cals_consumed = str(cals_consumed)\n",
    "    #total_cals_consumed.append(cals_consumed) #this would have been used to build a new list\n",
    "    print(f\"{drink['type']} = {cals_consumed} calories consumed\")"
   ]
  },
  {
   "cell_type": "markdown",
   "metadata": {},
   "source": [
    "###### Exercise 4: How many types of drinks are caffeinated?\n",
    "- We can build a counter in a loop with a conditional\n",
    "- Or we can make a new list of only caffeinated drinks and then count the number of items on that list\n",
    "- Either way programmatically counts the number of results."
   ]
  },
  {
   "cell_type": "code",
   "execution_count": 5,
   "metadata": {},
   "outputs": [
    {
     "name": "stdout",
     "output_type": "stream",
     "text": [
      "There are 2 caffeinated drinks\n"
     ]
    }
   ],
   "source": [
    "# Exercise 4\n",
    "# How many types of drinks are caffieinated?\n",
    "caffeinated_drinks = 0\n",
    "for drink in drinks:\n",
    "    if drink['caffeinated'] == True:\n",
    "        caffeinated_drinks += 1\n",
    "print(f\"There are {caffeinated_drinks} caffeinated drinks\")"
   ]
  },
  {
   "cell_type": "markdown",
   "metadata": {},
   "source": [
    "###### Exercise 5: How many total consumed drinks were non-caffeinated?\n",
    "- Add up the `number_consumed` values only from non-caffeinated beverages"
   ]
  },
  {
   "cell_type": "code",
   "execution_count": 6,
   "metadata": {},
   "outputs": [
    {
     "name": "stdout",
     "output_type": "stream",
     "text": [
      "12 consumed drinks were non-caffeinated\n"
     ]
    }
   ],
   "source": [
    "# Exercise 5\n",
    "# How many total consumed drinks were non-caffeinated?\n",
    "non_caffeinated_number_consumed = 0\n",
    "for drink in drinks:\n",
    "    if drink['caffeinated'] == False:\n",
    "             non_caffeinated_number_consumed += drink['number_consumed']\n",
    "print(f\"{non_caffeinated_number_consumed} consumed drinks were non-caffeinated\")"
   ]
  },
  {
   "cell_type": "markdown",
   "metadata": {},
   "source": [
    "###### Exercise 6: What is the drink with the highest amount of calories per drink?\n",
    "- Again, doing this manually misses the point of using a programming language\n",
    "- We can do this with a loop with a conditional\n",
    "- Or we can approach this with another piece of Python syntax, the `key` argument in the `max` function"
   ]
  },
  {
   "cell_type": "code",
   "execution_count": 7,
   "metadata": {},
   "outputs": [
    {
     "data": {
      "text/plain": [
       "{'type': 'cappuccino',\n",
       " 'calories': 350,\n",
       " 'number_consumed': 2,\n",
       " 'caffeinated': True}"
      ]
     },
     "execution_count": 7,
     "metadata": {},
     "output_type": "execute_result"
    }
   ],
   "source": [
    "# Exercise 6\n",
    "# Which drink has the most calories?\n",
    "# highest_calories = 0\n",
    "# for drink in drinks:\n",
    "#     if drink['calories'] > highest_calories:\n",
    "#         highest_calories = drink['calories']\n",
    "# for drink in drinks:\n",
    "#     if highest_calories == drink['calories']:\n",
    "#         print(drink['type'])\n",
    "# print(max(drink['calories'])) #i'd like to do this simpler, like w a max() fn\n",
    "\n",
    "drink_highest_cal = max(drinks, key = lambda drinks: drinks['calories'])\n",
    "drink_highest_cal"
   ]
  },
  {
   "cell_type": "markdown",
   "metadata": {},
   "source": [
    "###### Exercise 7: Which drink was consumed the least? (has the lowest `number_consumed`)\n",
    "- Here we can make use of the `key` argument with the `min` function\n",
    "- A loop with a conditional is possible, but is \"upside down\" from how we did it with the max above. "
   ]
  },
  {
   "cell_type": "code",
   "execution_count": 8,
   "metadata": {},
   "outputs": [
    {
     "data": {
      "text/plain": [
       "{'type': 'gatorade',\n",
       " 'calories': 140,\n",
       " 'number_consumed': 1,\n",
       " 'caffeinated': False}"
      ]
     },
     "execution_count": 8,
     "metadata": {},
     "output_type": "execute_result"
    }
   ],
   "source": [
    "# Exercise 7\n",
    "# Which drink was consumed the least?\n",
    "\n",
    "drinks_least_consumed = min(drinks, key = lambda drinks: drinks['number_consumed'])\n",
    "drinks_least_consumed"
   ]
  },
  {
   "cell_type": "markdown",
   "metadata": {},
   "source": [
    "###### Exercise 8: If we consume all of these beverages, what is the average calorie count per drink?\n",
    "- First, multiply each drink's calorie count by the number of that specific drink consumed\n",
    "- Then divide that number by the total number of drinks consumed"
   ]
  },
  {
   "cell_type": "code",
   "execution_count": 9,
   "metadata": {},
   "outputs": [
    {
     "name": "stdout",
     "output_type": "stream",
     "text": [
      "102.05882352941177\n"
     ]
    }
   ],
   "source": [
    "# Exercise 8\n",
    "# Average calorie count per consumed drink, if all beverages are consumed\n",
    "calorie_count = 0\n",
    "for drink in drinks:\n",
    "    calorie_count += (drink['number_consumed'] * drink['calories'])\n",
    "print(calorie_count/number_consumed)"
   ]
  },
  {
   "cell_type": "code",
   "execution_count": 2,
   "metadata": {},
   "outputs": [
    {
     "data": {
      "text/plain": [
       "1735.0"
      ]
     },
     "execution_count": 2,
     "metadata": {},
     "output_type": "execute_result"
    }
   ],
   "source": [
    "102.05882352941177 * 17 #just checking my work here"
   ]
  },
  {
   "cell_type": "code",
   "execution_count": null,
   "metadata": {},
   "outputs": [],
   "source": []
  }
 ],
 "metadata": {
  "kernelspec": {
   "display_name": "Python 3",
   "language": "python",
   "name": "python3"
  },
  "language_info": {
   "codemirror_mode": {
    "name": "ipython",
    "version": 3
   },
   "file_extension": ".py",
   "mimetype": "text/x-python",
   "name": "python",
   "nbconvert_exporter": "python",
   "pygments_lexer": "ipython3",
   "version": "3.8.8"
  }
 },
 "nbformat": 4,
 "nbformat_minor": 4
}
