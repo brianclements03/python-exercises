{
 "cells": [
  {
   "cell_type": "code",
   "execution_count": 1,
   "id": "2da00127",
   "metadata": {},
   "outputs": [
    {
     "name": "stdout",
     "output_type": "stream",
     "text": [
      "1 is odd\n",
      "2 is even\n",
      "3 is odd\n",
      "4 is even\n",
      "5 is odd\n",
      "6 is even\n",
      "7 is odd\n",
      "8 is even\n",
      "9 is odd\n",
      "10 is even\n"
     ]
    }
   ],
   "source": [
    "for num in range(1,11):\n",
    "    if num % 2 == 0:\n",
    "        print(num, 'is even')\n",
    "    else:\n",
    "        print(num, 'is odd')"
   ]
  },
  {
   "cell_type": "code",
   "execution_count": 2,
   "id": "acc71377",
   "metadata": {},
   "outputs": [
    {
     "name": "stdout",
     "output_type": "stream",
     "text": [
      "hhhh\n",
      "oooo\n",
      "pppp\n",
      "pppp\n",
      "eeee\n",
      "rrrr\n"
     ]
    }
   ],
   "source": [
    "s = 'hopper'\n",
    "for char in s:\n",
    "    print(char * 4)"
   ]
  },
  {
   "cell_type": "code",
   "execution_count": 3,
   "id": "266b7545",
   "metadata": {},
   "outputs": [
    {
     "data": {
      "text/plain": [
       "[1, 4, 9, 16, 25, 36, 49, 64, 81]"
      ]
     },
     "execution_count": 3,
     "metadata": {},
     "output_type": "execute_result"
    }
   ],
   "source": [
    "l = []\n",
    "for num in range(1,10):\n",
    "    l.append(num **2)\n",
    "    l\n",
    "l"
   ]
  },
  {
   "cell_type": "code",
   "execution_count": 4,
   "id": "ba3f5c39",
   "metadata": {},
   "outputs": [
    {
     "name": "stdout",
     "output_type": "stream",
     "text": [
      "[1]\n",
      "[1, 4]\n",
      "[1, 4, 9]\n",
      "[1, 4, 9, 16]\n",
      "[1, 4, 9, 16, 25]\n",
      "[1, 4, 9, 16, 25, 36]\n",
      "[1, 4, 9, 16, 25, 36, 49]\n",
      "[1, 4, 9, 16, 25, 36, 49, 64]\n",
      "[1, 4, 9, 16, 25, 36, 49, 64, 81]\n"
     ]
    },
    {
     "data": {
      "text/plain": [
       "[1, 4, 9, 16, 25, 36, 49, 64, 81]"
      ]
     },
     "execution_count": 4,
     "metadata": {},
     "output_type": "execute_result"
    }
   ],
   "source": [
    "l = []\n",
    "for num in range(1,10):\n",
    "    l.append(num **2)\n",
    "    print(l)\n",
    "l"
   ]
  },
  {
   "cell_type": "code",
   "execution_count": 5,
   "id": "00477c60",
   "metadata": {},
   "outputs": [],
   "source": [
    "#take a look at that ^^"
   ]
  },
  {
   "cell_type": "code",
   "execution_count": 6,
   "id": "6cbb4c71",
   "metadata": {},
   "outputs": [
    {
     "data": {
      "text/plain": [
       "[1, 4, 9, 16, 25, 36, 49, 64, 81]"
      ]
     },
     "execution_count": 6,
     "metadata": {},
     "output_type": "execute_result"
    }
   ],
   "source": [
    "[num ** 2 for num in range(1,10)]"
   ]
  },
  {
   "cell_type": "code",
   "execution_count": 8,
   "id": "f2a18134",
   "metadata": {},
   "outputs": [],
   "source": [
    "## While"
   ]
  },
  {
   "cell_type": "code",
   "execution_count": 9,
   "id": "59ede65d",
   "metadata": {
    "scrolled": true
   },
   "outputs": [
    {
     "name": "stdout",
     "output_type": "stream",
     "text": [
      "1\n",
      "2\n",
      "3\n",
      "4\n"
     ]
    }
   ],
   "source": [
    "i = 1\n",
    "\n",
    "while i < 5:\n",
    "    print(i)\n",
    "    i = i +1"
   ]
  },
  {
   "cell_type": "code",
   "execution_count": 13,
   "id": "84ccd431",
   "metadata": {},
   "outputs": [
    {
     "name": "stdout",
     "output_type": "stream",
     "text": [
      "Please input your password: jhfg\n",
      "Invalid password\n",
      "Please input your password: jhgf\\\n",
      "Invalid password\n",
      "Please input your password: password1234\n",
      "You may proceed\n"
     ]
    }
   ],
   "source": [
    "stored_password = 'password1234'\n",
    "user_input = input('Please input your password: ')\n",
    "\n",
    "while user_input != stored_password:\n",
    "    print('Invalid password')\n",
    "    user_input = input('Please input your password: ')\n",
    "print('You may proceed')"
   ]
  },
  {
   "cell_type": "code",
   "execution_count": null,
   "id": "7523442a",
   "metadata": {},
   "outputs": [],
   "source": [
    "## break: stops the loop entirely"
   ]
  },
  {
   "cell_type": "code",
   "execution_count": 3,
   "id": "9223b631",
   "metadata": {},
   "outputs": [
    {
     "name": "stdout",
     "output_type": "stream",
     "text": [
      "1\n",
      "2\n",
      "3\n",
      "4\n",
      "5\n",
      "6\n",
      "7\n",
      "8\n",
      "9\n"
     ]
    }
   ],
   "source": [
    "i = 1\n",
    "\n",
    "while i < 1000:\n",
    "    print(i)\n",
    "    i = i + 1\n",
    "    if i == 10:\n",
    "        break"
   ]
  },
  {
   "cell_type": "code",
   "execution_count": 5,
   "id": "0b4d3bdc",
   "metadata": {},
   "outputs": [
    {
     "name": "stdout",
     "output_type": "stream",
     "text": [
      "Candy\n",
      "Candy\n",
      "Candy\n",
      "Candy\n",
      "Candy\n",
      "Out of candies\n"
     ]
    }
   ],
   "source": [
    "user_input = 10\n",
    "available_candies = 5\n",
    "i = 1\n",
    "\n",
    "while i <= user_input:\n",
    "    \n",
    "    if i > available_candies:\n",
    "        print('Out of candies')\n",
    "        break\n",
    "        \n",
    "    print('Candy')\n",
    "    i = i + 1"
   ]
  },
  {
   "cell_type": "code",
   "execution_count": 7,
   "id": "441b3a14",
   "metadata": {},
   "outputs": [],
   "source": [
    "##continues--don't break the loop, just move to next iteration"
   ]
  },
  {
   "cell_type": "code",
   "execution_count": 12,
   "id": "5245cf71",
   "metadata": {},
   "outputs": [
    {
     "name": "stdout",
     "output_type": "stream",
     "text": [
      "here is an odd number 1\n",
      "here is an odd number 3\n",
      "here is an odd number 5\n",
      "here is an odd number 7\n",
      "here is an odd number 9\n"
     ]
    }
   ],
   "source": [
    "#print only odds\n",
    "\n",
    "for i in range(1,10):\n",
    "    if i % 2 == 0:\n",
    "        continue\n",
    "    else:\n",
    "        print('here is an odd number', i)"
   ]
  },
  {
   "cell_type": "code",
   "execution_count": null,
   "id": "602bd126",
   "metadata": {},
   "outputs": [],
   "source": []
  }
 ],
 "metadata": {
  "kernelspec": {
   "display_name": "Python 3",
   "language": "python",
   "name": "python3"
  },
  "language_info": {
   "codemirror_mode": {
    "name": "ipython",
    "version": 3
   },
   "file_extension": ".py",
   "mimetype": "text/x-python",
   "name": "python",
   "nbconvert_exporter": "python",
   "pygments_lexer": "ipython3",
   "version": "3.8.8"
  }
 },
 "nbformat": 4,
 "nbformat_minor": 5
}
