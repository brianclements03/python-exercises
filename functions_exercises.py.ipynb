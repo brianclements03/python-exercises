{
 "cells": [
  {
   "cell_type": "markdown",
   "id": "4ce34ab8",
   "metadata": {},
   "source": [
    "- Define a function named is_two. It should accept one input and return True if the passed input is either the number or the string 2, False otherwise.\n"
   ]
  },
  {
   "cell_type": "code",
   "execution_count": 4,
   "id": "89a3d51b",
   "metadata": {},
   "outputs": [
    {
     "data": {
      "text/plain": [
       "False"
      ]
     },
     "execution_count": 4,
     "metadata": {},
     "output_type": "execute_result"
    }
   ],
   "source": [
    "def is_two(x):\n",
    "    if x == 2:\n",
    "        return True\n",
    "    else:\n",
    "        return False\n",
    "is_two(5)"
   ]
  },
  {
   "cell_type": "markdown",
   "id": "4b8260a3",
   "metadata": {},
   "source": [
    "- Define a function named is_vowel. It should return True if the passed string is a vowel, False otherwise."
   ]
  },
  {
   "cell_type": "code",
   "execution_count": 86,
   "id": "9bbd1ba8",
   "metadata": {},
   "outputs": [],
   "source": [
    "def is_vowel(x):\n",
    "    vowels = ['a', 'e', 'i', 'o', 'u']\n",
    "    x = str(x)\n",
    "    if x.lower() in vowels:\n",
    "        return True\n",
    "    else:\n",
    "        return False\n",
    "#i'd like to get this working so that you don't need \"\" in the input below"
   ]
  },
  {
   "cell_type": "code",
   "execution_count": 87,
   "id": "0aa2f321",
   "metadata": {},
   "outputs": [
    {
     "data": {
      "text/plain": [
       "False"
      ]
     },
     "execution_count": 87,
     "metadata": {},
     "output_type": "execute_result"
    }
   ],
   "source": [
    "is_vowel('F')"
   ]
  },
  {
   "cell_type": "markdown",
   "id": "fd4cbd74",
   "metadata": {},
   "source": [
    "- Define a function named is_consonant. It should return True if the passed string is a consonant, False otherwise. Use your is_vowel function to accomplish this."
   ]
  },
  {
   "cell_type": "code",
   "execution_count": 84,
   "id": "321c661f",
   "metadata": {},
   "outputs": [],
   "source": [
    "def is_consonant(x):\n",
    "    vowels = ['a', 'e', 'i', 'o', 'u']\n",
    "    x = str(x)\n",
    "    if x.lower() not in vowels:\n",
    "        return True\n",
    "    else:\n",
    "        return False"
   ]
  },
  {
   "cell_type": "code",
   "execution_count": 101,
   "id": "d334ddb4",
   "metadata": {},
   "outputs": [
    {
     "data": {
      "text/plain": [
       "False"
      ]
     },
     "execution_count": 101,
     "metadata": {},
     "output_type": "execute_result"
    }
   ],
   "source": [
    "is_consonant('o')"
   ]
  },
  {
   "cell_type": "markdown",
   "id": "bc39ba68",
   "metadata": {},
   "source": [
    "- Define a function that accepts a string that is a word. \n",
    "- The function should capitalize the first letter of the word if the word starts with a consonant."
   ]
  },
  {
   "cell_type": "code",
   "execution_count": 118,
   "id": "dedf18a9",
   "metadata": {},
   "outputs": [],
   "source": [
    "def cap_consonant(x):\n",
    "    if is_consonant(x[0]) == True:\n",
    "        return x.capitalize()\n",
    "    else:\n",
    "        return x"
   ]
  },
  {
   "cell_type": "code",
   "execution_count": 122,
   "id": "8608c92f",
   "metadata": {},
   "outputs": [
    {
     "data": {
      "text/plain": [
       "'Fail'"
      ]
     },
     "execution_count": 122,
     "metadata": {},
     "output_type": "execute_result"
    }
   ],
   "source": [
    "cap_consonant('fail')"
   ]
  },
  {
   "cell_type": "markdown",
   "id": "9bd996f2",
   "metadata": {},
   "source": [
    "- Define a function named calculate_tip. It should accept a tip percentage (a number between 0 and 1) and the bill total, and return the amount to tip."
   ]
  },
  {
   "cell_type": "code",
   "execution_count": 130,
   "id": "008eccbf",
   "metadata": {},
   "outputs": [
    {
     "name": "stdout",
     "output_type": "stream",
     "text": [
      "14.94\n"
     ]
    }
   ],
   "source": [
    "def calculate_tip(tip, bill):\n",
    "    return bill * tip\n",
    "print(calculate_tip(.18, 83))"
   ]
  },
  {
   "cell_type": "markdown",
   "id": "592838e9",
   "metadata": {},
   "source": [
    "- Define a function named apply_discount. \n",
    "- It should accept a original price, and a discount percentage, and return the price after the discount is applied."
   ]
  },
  {
   "cell_type": "code",
   "execution_count": 131,
   "id": "896d0e57",
   "metadata": {},
   "outputs": [],
   "source": [
    "def apply_discount(price, discount):\n",
    "    return price - price * discount"
   ]
  },
  {
   "cell_type": "code",
   "execution_count": 132,
   "id": "d4a1f92e",
   "metadata": {},
   "outputs": [
    {
     "data": {
      "text/plain": [
       "63.0"
      ]
     },
     "execution_count": 132,
     "metadata": {},
     "output_type": "execute_result"
    }
   ],
   "source": [
    "apply_discount(90, .3)"
   ]
  },
  {
   "cell_type": "markdown",
   "id": "79c683c1",
   "metadata": {},
   "source": [
    "- Define a function named handle_commas. \n",
    "- It should accept a string that is a number that contains commas in it as input, and return a number as output."
   ]
  },
  {
   "cell_type": "code",
   "execution_count": 140,
   "id": "f714b0e8",
   "metadata": {},
   "outputs": [],
   "source": [
    "def handle_commas(x):\n",
    "    return int(x.replace(\",\",\"\"))"
   ]
  },
  {
   "cell_type": "code",
   "execution_count": 141,
   "id": "2ddf480b",
   "metadata": {},
   "outputs": [
    {
     "data": {
      "text/plain": [
       "100000"
      ]
     },
     "execution_count": 141,
     "metadata": {},
     "output_type": "execute_result"
    }
   ],
   "source": [
    "handle_commas('100,000')"
   ]
  },
  {
   "cell_type": "code",
   "execution_count": null,
   "id": "b595ed99",
   "metadata": {},
   "outputs": [],
   "source": []
  }
 ],
 "metadata": {
  "kernelspec": {
   "display_name": "Python 3",
   "language": "python",
   "name": "python3"
  },
  "language_info": {
   "codemirror_mode": {
    "name": "ipython",
    "version": 3
   },
   "file_extension": ".py",
   "mimetype": "text/x-python",
   "name": "python",
   "nbconvert_exporter": "python",
   "pygments_lexer": "ipython3",
   "version": "3.8.8"
  }
 },
 "nbformat": 4,
 "nbformat_minor": 5
}
