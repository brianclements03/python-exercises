{
 "cells": [
  {
   "cell_type": "markdown",
   "id": "cf39d70c",
   "metadata": {},
   "source": [
    "# 1\n",
    "- Define a function named is_two. \n",
    "- It should accept one input and return True if the passed input is either the number or the string 2, False otherwise.\n"
   ]
  },
  {
   "cell_type": "code",
   "execution_count": 4,
   "id": "1fb5d2ef",
   "metadata": {},
   "outputs": [
    {
     "data": {
      "text/plain": [
       "False"
      ]
     },
     "execution_count": 4,
     "metadata": {},
     "output_type": "execute_result"
    }
   ],
   "source": [
    "def is_two(x):\n",
    "    if x == 2:\n",
    "        return True\n",
    "    else:\n",
    "        return False\n",
    "is_two(5)"
   ]
  },
  {
   "cell_type": "markdown",
   "id": "af9736be",
   "metadata": {},
   "source": [
    "## Walkthrough # 1\n",
    "1. The function accepts a single parameter. Very simply, it uses an 'if' statment to check if the input is 2 and return True if it is; False in the contrary case."
   ]
  },
  {
   "cell_type": "markdown",
   "id": "0f9a2783",
   "metadata": {},
   "source": [
    "# 2 \n",
    "- Define a function named `is_vowel`. \n",
    "- It should return True if the passed string is a vowel, False otherwise."
   ]
  },
  {
   "cell_type": "code",
   "execution_count": 477,
   "id": "1708b630",
   "metadata": {},
   "outputs": [],
   "source": [
    "#`is_vowel` takes a string parameter and checks if it is a vowel\n",
    "def is_vowel(x):\n",
    "    #here, we define vowels\n",
    "    vowels = ['a', 'e', 'i', 'o', 'u']\n",
    "    #below, we return False if the string is greater than one character in length\n",
    "    if len(x) != 1:\n",
    "        return False\n",
    "    #here, we lower-case the sting and check if it is in our Vowels list, returning True if it is\n",
    "    elif x.lower() in vowels:\n",
    "        return True\n",
    "    #and returning False if not\n",
    "    else:\n",
    "        return False\n"
   ]
  },
  {
   "cell_type": "markdown",
   "id": "0ce5e63b",
   "metadata": {},
   "source": [
    "## Walkthrough # 2\n",
    "1. We begin by taking a single, string parameter; after defining what 'vowels' are, we then check to see if the lenght of the string is greater than 1 and return a False if so.\n",
    "2. The next step is to transform the single-character string into lower case and check against the vowels list; if it is found to be in the list, the function returns True (and False, in the contrary case)."
   ]
  },
  {
   "cell_type": "code",
   "execution_count": 482,
   "id": "ccc2130f",
   "metadata": {},
   "outputs": [
    {
     "data": {
      "text/plain": [
       "True"
      ]
     },
     "execution_count": 482,
     "metadata": {},
     "output_type": "execute_result"
    }
   ],
   "source": [
    "is_vowel('A')"
   ]
  },
  {
   "cell_type": "markdown",
   "id": "39c78309",
   "metadata": {},
   "source": [
    "# 3\n",
    "- Define a function named `is_consonant`. \n",
    "- It should return True if the passed string is a consonant, False otherwise. \n",
    "- Use your is_vowel function to accomplish this."
   ]
  },
  {
   "cell_type": "code",
   "execution_count": 495,
   "id": "3c3da0b8",
   "metadata": {},
   "outputs": [],
   "source": [
    "#`is_consonant` takes a single, string parameter and returns a true if it is a consonant, false if not\n",
    "def is_consonant(x):\n",
    "    if len(x) != 1:\n",
    "        return False\n",
    "    elif is_vowel(x) == True:\n",
    "        return False\n",
    "    else:\n",
    "        return True"
   ]
  },
  {
   "cell_type": "markdown",
   "id": "3fd17b75",
   "metadata": {},
   "source": [
    "## Walkthrough # 3\n",
    "1. The single, string parameter entered in the function is very simply subjected to the vowel test from the previous exercises, returning `True` or `False` accordingly"
   ]
  },
  {
   "cell_type": "code",
   "execution_count": 496,
   "id": "2b3f9ad5",
   "metadata": {},
   "outputs": [
    {
     "data": {
      "text/plain": [
       "True"
      ]
     },
     "execution_count": 496,
     "metadata": {},
     "output_type": "execute_result"
    }
   ],
   "source": [
    "is_consonant('K')"
   ]
  },
  {
   "cell_type": "markdown",
   "id": "1b770875",
   "metadata": {},
   "source": [
    "# 4\n",
    "- Define a function that accepts a string that is a word. \n",
    "- The function should capitalize the first letter of the word if the word starts with a consonant."
   ]
  },
  {
   "cell_type": "code",
   "execution_count": 445,
   "id": "9ce6b1c2",
   "metadata": {},
   "outputs": [],
   "source": [
    "#our function accepts a string parameter\n",
    "def cap_consonant(x):\n",
    "    #we subject it to a check of whether the first element in the string, x[0], is a consonant using our is_consonant function above\n",
    "    if is_consonant(x[0]) == True:\n",
    "        #if the first character is a consonant, the following operation capitalizes it.\n",
    "        return x.capitalize()\n",
    "    #if it is not a consonant, the function leaves it be\n",
    "    else:\n",
    "        return x"
   ]
  },
  {
   "cell_type": "markdown",
   "id": "9cdff73a",
   "metadata": {},
   "source": [
    "## Walkthrough # 4\n",
    "1. The string parameter that the function takes is checked (only on its first character) for whether it is a consonant; if so, the string is capitalized; if not, it is returned untransformed."
   ]
  },
  {
   "cell_type": "code",
   "execution_count": 122,
   "id": "8aa5d6df",
   "metadata": {},
   "outputs": [
    {
     "data": {
      "text/plain": [
       "'Fail'"
      ]
     },
     "execution_count": 122,
     "metadata": {},
     "output_type": "execute_result"
    }
   ],
   "source": [
    "cap_consonant('fail')"
   ]
  },
  {
   "cell_type": "markdown",
   "id": "883b2ba9",
   "metadata": {},
   "source": [
    "# 5\n",
    "- Define a function named `calculate_tip`. \n",
    "- It should accept a tip percentage (a number between 0 and 1) and the bill total, and return the amount to tip."
   ]
  },
  {
   "cell_type": "code",
   "execution_count": 130,
   "id": "1598f5d1",
   "metadata": {},
   "outputs": [
    {
     "name": "stdout",
     "output_type": "stream",
     "text": [
      "14.94\n"
     ]
    }
   ],
   "source": [
    "def calculate_tip(tip, bill):\n",
    "    return bill * tip\n",
    "print(calculate_tip(.18, 83))"
   ]
  },
  {
   "cell_type": "markdown",
   "id": "a5a7c46e",
   "metadata": {},
   "source": [
    "## Walkthrough #5\n",
    "1. Very simple: take two numerical parameters and multiply them to calculate what the tip amount is."
   ]
  },
  {
   "cell_type": "markdown",
   "id": "5b488dbe",
   "metadata": {},
   "source": [
    "# 6\n",
    "- Define a function named `apply_discount`. \n",
    "- It should accept a original price, and a discount percentage, and return the price after the discount is applied."
   ]
  },
  {
   "cell_type": "code",
   "execution_count": 444,
   "id": "918d7e5d",
   "metadata": {},
   "outputs": [],
   "source": [
    "#This simple function accepts two numerical parameters and calculates a discount amount and returns price after applying it\n",
    "def apply_discount(price, discount):\n",
    "    return price - price * discount"
   ]
  },
  {
   "cell_type": "markdown",
   "id": "9b7e85bb",
   "metadata": {},
   "source": [
    "## Walkthrough # 6\n",
    "1. The function assumes two numerical parameters, one a price and the other a percentage from 0-1 for the discount.\n",
    "2. The output is the price minus the calculated discount."
   ]
  },
  {
   "cell_type": "code",
   "execution_count": 132,
   "id": "585feb96",
   "metadata": {},
   "outputs": [
    {
     "data": {
      "text/plain": [
       "63.0"
      ]
     },
     "execution_count": 132,
     "metadata": {},
     "output_type": "execute_result"
    }
   ],
   "source": [
    "apply_discount(90, .3)"
   ]
  },
  {
   "cell_type": "markdown",
   "id": "231c5deb",
   "metadata": {},
   "source": [
    "# 7\n",
    "- Define a function named `handle_commas`. \n",
    "- It should accept a string that is a number that contains commas in it as input, and return a number as output."
   ]
  },
  {
   "cell_type": "code",
   "execution_count": 442,
   "id": "0fff7036",
   "metadata": {},
   "outputs": [],
   "source": [
    "#our function takes a single, numerical parameter and transforms it by removing commas.\n",
    "def handle_commas(x):\n",
    "    return int(x.replace(\",\",\"\"))"
   ]
  },
  {
   "cell_type": "markdown",
   "id": "0024c6f5",
   "metadata": {},
   "source": [
    "## Walkthrough # 7\n",
    "1. The first, immediate operation in the function is to remove commas using the replace function.  The input paramater is numerical, but the data type is string, so the next operation the function does is to transform the result into an integer and return it."
   ]
  },
  {
   "cell_type": "code",
   "execution_count": 141,
   "id": "7ac805ba",
   "metadata": {},
   "outputs": [
    {
     "data": {
      "text/plain": [
       "100000"
      ]
     },
     "execution_count": 141,
     "metadata": {},
     "output_type": "execute_result"
    }
   ],
   "source": [
    "handle_commas('100,000')"
   ]
  },
  {
   "cell_type": "markdown",
   "id": "51af3953",
   "metadata": {},
   "source": [
    "# 8\n",
    "- Define a function named `get_letter_grade`. \n",
    "- It should accept a number and return the letter grade associated with that number (A-F)."
   ]
  },
  {
   "cell_type": "code",
   "execution_count": 145,
   "id": "847fda55",
   "metadata": {},
   "outputs": [],
   "source": [
    "#Our function takes a single numerical input and returns its corresponding \"letter\" grade\n",
    "def get_letter_grade(x):\n",
    "    # the following if/elif statements filter the input through possible outputs, returning the correct one.\n",
    "    if x >= 90:\n",
    "        return('A')\n",
    "    elif x >= 80:    \n",
    "        return('B')\n",
    "    elif x >= 70:\n",
    "        return('C')\n",
    "    elif x >= 60:\n",
    "        return('D')\n",
    "    else:\n",
    "        return('F')"
   ]
  },
  {
   "cell_type": "markdown",
   "id": "e1ca7d86",
   "metadata": {},
   "source": [
    "## Walkthough # 8\n",
    "1. We begin with a single, numerical input and subject it to a cascade of if/elif statements. Once the correct \"if\" statement is reached, it immediately outputs the corresponding letter grade.  \n",
    "2. The function assumes a numerical grade from 0 to 100--anything below 0 returns an \"F\" and above 100, an \"A\"."
   ]
  },
  {
   "cell_type": "code",
   "execution_count": 441,
   "id": "be5d8141",
   "metadata": {},
   "outputs": [
    {
     "data": {
      "text/plain": [
       "'B'"
      ]
     },
     "execution_count": 441,
     "metadata": {},
     "output_type": "execute_result"
    }
   ],
   "source": [
    "get_letter_grade(88.2)"
   ]
  },
  {
   "cell_type": "markdown",
   "id": "2a80bcd3",
   "metadata": {},
   "source": [
    "# 9\n",
    "- Define a function named `remove_vowels` that accepts a string and returns a string with all the vowels removed."
   ]
  },
  {
   "cell_type": "code",
   "execution_count": 438,
   "id": "a50bccec",
   "metadata": {},
   "outputs": [],
   "source": [
    "#function accepts a single string parameter and removes any character that is a vowel\n",
    "def remove_vowels(word):\n",
    "    #first, we immediately loop to check every letter in the loop using our is_vowel function above\n",
    "    for letter in word:\n",
    "        #if it is found to be a vowel, then a new string is returned, removing the vowel\n",
    "        if is_vowel(letter) == True:\n",
    "            word = word.replace(letter,\"\")\n",
    "            #the word is returned outside the loop\n",
    "    return word\n"
   ]
  },
  {
   "cell_type": "markdown",
   "id": "84b9761b",
   "metadata": {},
   "source": [
    "## Walkthrough # 9\n",
    "1. We begin with a string parameter and using a loop, we subject every character in it to a test of whether or not it's a vowel with our `is_vowel` function above.\n",
    "2. If the character is found to be a vowel, it is removed and the new string is returned to the loop to check again."
   ]
  },
  {
   "cell_type": "code",
   "execution_count": 181,
   "id": "9f812bfe",
   "metadata": {},
   "outputs": [
    {
     "name": "stdout",
     "output_type": "stream",
     "text": [
      "lvndjy\n"
     ]
    }
   ],
   "source": [
    "print(remove_vowels('loveandjoy'))"
   ]
  },
  {
   "cell_type": "markdown",
   "id": "2116fc24",
   "metadata": {},
   "source": [
    "# 10\n",
    "- Define a function named `normalize_name`. \n",
    "- It should accept a string and return a valid python identifier, that is:\n",
    "    - anything that is not a valid python identifier should be removed\n",
    "    - leading and trailing whitespace should be removed\n",
    "    - everything should be lowercase\n",
    "    - spaces should be replaced with underscores\n",
    "- for example:\n",
    "    - `Name` will become `name`\n",
    "    - `First Name` will become `first_name`\n",
    "    - `% Completed` will become `completed`"
   ]
  },
  {
   "cell_type": "code",
   "execution_count": 427,
   "id": "0d5d3215",
   "metadata": {},
   "outputs": [],
   "source": [
    "#this function takes a single string parameter and removes sp chars and outside spaces, replacing middle spaces with underscores\n",
    "def normalize_name(name):\n",
    "    #this loop will check that every character in the string is alphanumeric; if not, it replaces with a space\n",
    "    for character in name:\n",
    "        if (character.isalnum() == False\n",
    "            #here, the if statement is making sure to only replace non-alphanumerics that are NOT spaces\n",
    "            and character != ' '):\n",
    "            #below, the characters coming from the if statment are removed\n",
    "            name = name.replace(character,\"\")\n",
    "            #below, the resulting string is stripped of leading and trailing spaces.\n",
    "    name = name.lower().strip()\n",
    "    #below, middle spaces are replaced with underscores\n",
    "    name = name.replace(\" \",\"_\")   \n",
    "    #finally, the resulting string is returned\n",
    "    return name"
   ]
  },
  {
   "cell_type": "markdown",
   "id": "9dd650fa",
   "metadata": {},
   "source": [
    "## Walkthrough #10\n",
    "1. We immediately enter a loop that checks that every character in our string for whether it's alphanumeric; if it is NOT alphanumeric and it is NOT a space, then we remove the character.\n",
    "2. Once the loop returns a string with all special characters removed, we perform an operation stripping outside spaces and lower-casing it; the immediate next step is to replace middle spaces with underscores and return the output."
   ]
  },
  {
   "cell_type": "code",
   "execution_count": 437,
   "id": "ffc44f73",
   "metadata": {},
   "outputs": [
    {
     "data": {
      "text/plain": [
       "'the_dy_is_yours'"
      ]
     },
     "execution_count": 437,
     "metadata": {},
     "output_type": "execute_result"
    }
   ],
   "source": [
    "normalize_name('   --__.  #&  tHe d@Y is yO{u\"\"Rs   !     ')"
   ]
  },
  {
   "cell_type": "markdown",
   "id": "3e8662a2",
   "metadata": {},
   "source": [
    "# 11\n",
    "- Write a function named `cumulative_sum` \n",
    "- that accepts a list of numbers and returns a list that is the cumulative sum of the numbers in the list.\n",
    "    - cumulative_sum([1, 1, 1]) returns [1, 2, 3]\n",
    "    - cumulative_sum([1, 2, 3, 4]) returns [1, 3, 6, 10]"
   ]
  },
  {
   "cell_type": "code",
   "execution_count": 431,
   "id": "f47eda4a",
   "metadata": {},
   "outputs": [],
   "source": [
    "#cumulative_sum defines a single parameter, a list, and returns a list value where every element is a sum of all previous elements\n",
    "def cumulative_sum(x):\n",
    "    #create an empty list\n",
    "    output = []\n",
    "    #create a variable (which will be a list element) to use in a for loop and set to 0\n",
    "    i = 0\n",
    "    #the following loops from x[0] to the length of the list x[n]\n",
    "    for n in range(len(x)):\n",
    "        #assign our i variable so that every time we loop, it moves to the next element in list 'x'. \n",
    "        #The starting point is x[0]\n",
    "        i += x[n]\n",
    "        #this appends one element to our list for every loop through; thus, x[0] will be the first list element, \n",
    "        #x[1] will be that index plus previous .appends, etc.\n",
    "        output.append(i)\n",
    "    return output"
   ]
  },
  {
   "cell_type": "markdown",
   "id": "c6409d3c",
   "metadata": {},
   "source": [
    "## Walkthrough #11\n",
    "1. After creating an empty list, we are going to utilize a loop to populate it with a sequence of elements that is the same length as the original list.  To do so, we need an outside element, 'i', that is set to 0 to index the first item in the input list.\n",
    "2. The for loop works through a range from 0 to the length of our input list, `len(x)`.  For every pass through the loop, 'i' increases by the previous iteration--thus, the first iteration is simply 'x[0]', and subsequent iterations add previous values of 'i'.\n",
    "3. element 'i' is appended to the 'output' sequentially, until reaching x[n], and returned."
   ]
  },
  {
   "cell_type": "code",
   "execution_count": 432,
   "id": "95e970c1",
   "metadata": {},
   "outputs": [
    {
     "data": {
      "text/plain": [
       "[1, 3, 6, 10]"
      ]
     },
     "execution_count": 432,
     "metadata": {},
     "output_type": "execute_result"
    }
   ],
   "source": [
    "cumulative_sum([1, 2, 3,4])"
   ]
  },
  {
   "cell_type": "code",
   "execution_count": 433,
   "id": "90c20771",
   "metadata": {},
   "outputs": [
    {
     "data": {
      "text/plain": [
       "[1, 2, 3, 4, 5, 6, 7]"
      ]
     },
     "execution_count": 433,
     "metadata": {},
     "output_type": "execute_result"
    }
   ],
   "source": [
    "cumulative_sum([1,1,1,1,1,1,1])"
   ]
  },
  {
   "cell_type": "code",
   "execution_count": 434,
   "id": "07461cd5",
   "metadata": {},
   "outputs": [
    {
     "data": {
      "text/plain": [
       "[12, 43, 44, 79, 88, 88.64]"
      ]
     },
     "execution_count": 434,
     "metadata": {},
     "output_type": "execute_result"
    }
   ],
   "source": [
    "cumulative_sum([12,31,1,35,9,.64])"
   ]
  },
  {
   "cell_type": "markdown",
   "id": "7207aab8",
   "metadata": {},
   "source": [
    "# Bonus Question 1\n",
    "- Create a function named `twelveto24`. \n",
    "- It should accept a string in the format 10:45am or 4:30pm and return a string that is the representation of the time in a 24-hour format. \n",
    "- Bonus write a function that does the opposite."
   ]
  },
  {
   "cell_type": "code",
   "execution_count": 556,
   "id": "0e5a661f",
   "metadata": {},
   "outputs": [],
   "source": [
    "def twelveto24(x):\n",
    "    #if it is midnight hour...\n",
    "    if len(x) < 7:\n",
    "        x = '0' + x\n",
    "    if x[-2:] == 'am' and x[:2] == '12':  #note how the 'x[-2:] and x[:2] work here: like selecting the last/first two characters\n",
    "        return '00' + x[2:-2]\n",
    "    elif x[-2:] == 'am':\n",
    "        return x\n",
    "    elif x[-2:] == 'pm' and x[:2] == '12':\n",
    "        return x[:-2]\n",
    "    else:\n",
    "        #add 12 to the time here, for those times not addressed above\n",
    "        return str(int(x[:2]) + 12) + x[2:7]"
   ]
  },
  {
   "cell_type": "code",
   "execution_count": 559,
   "id": "44067c15",
   "metadata": {},
   "outputs": [
    {
     "data": {
      "text/plain": [
       "'04:30am'"
      ]
     },
     "execution_count": 559,
     "metadata": {},
     "output_type": "execute_result"
    }
   ],
   "source": [
    "twelveto24('4:30am')"
   ]
  },
  {
   "cell_type": "markdown",
   "id": "a01efcb8",
   "metadata": {},
   "source": [
    "# Bonus to the Bonus Question\n",
    "- Do the same thing, but in reverse (i.e. turn 24 hour time to 12 hour)"
   ]
  },
  {
   "cell_type": "code",
   "execution_count": 560,
   "id": "e587cc87",
   "metadata": {},
   "outputs": [],
   "source": [
    "#I'll get to this after I do the other bonus first..."
   ]
  },
  {
   "cell_type": "markdown",
   "id": "90a81344",
   "metadata": {},
   "source": [
    "# Bonus Question 2\n",
    "- Create a function named col_index. \n",
    "- It should accept a spreadsheet column name, and return the index number of the column.\n",
    "    - col_index('A') returns 1\n",
    "    - col_index('B') returns 2\n",
    "    - col_index('AA') returns 27"
   ]
  },
  {
   "cell_type": "code",
   "execution_count": null,
   "id": "2210427a",
   "metadata": {},
   "outputs": [],
   "source": [
    "def col_index(x):\n",
    "    "
   ]
  }
 ],
 "metadata": {
  "kernelspec": {
   "display_name": "Python 3",
   "language": "python",
   "name": "python3"
  },
  "language_info": {
   "codemirror_mode": {
    "name": "ipython",
    "version": 3
   },
   "file_extension": ".py",
   "mimetype": "text/x-python",
   "name": "python",
   "nbconvert_exporter": "python",
   "pygments_lexer": "ipython3",
   "version": "3.8.8"
  }
 },
 "nbformat": 4,
 "nbformat_minor": 5
}
