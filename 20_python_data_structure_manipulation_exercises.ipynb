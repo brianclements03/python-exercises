{
 "cells": [
  {
   "cell_type": "markdown",
   "id": "56e6b030",
   "metadata": {},
   "source": [
    "# 20 Python Data Structure Manipulation Exercises\n",
    "\n",
    "### The following questions reference the students data structure below. Write the python code to answer the following questions:\n",
    "\n"
   ]
  },
  {
   "cell_type": "code",
   "execution_count": 56,
   "id": "c90ed1f8",
   "metadata": {},
   "outputs": [],
   "source": [
    "students = [\n",
    "    {\n",
    "        \"id\": \"100001\",\n",
    "        \"student\": \"Ada Lovelace\",\n",
    "        \"coffee_preference\": \"light\",\n",
    "        \"course\": \"web development\",\n",
    "        \"grades\": [70, 91, 82, 71],\n",
    "        \"pets\": [{\"species\": \"horse\", \"age\": 8}],\n",
    "    },\n",
    "    {\n",
    "        \"id\": \"100002\",\n",
    "        \"student\": \"Thomas Bayes\",\n",
    "        \"coffee_preference\": \"medium\",\n",
    "        \"course\": \"data science\",\n",
    "        \"grades\": [75, 73, 86, 100],\n",
    "        \"pets\": [],\n",
    "    },\n",
    "    {\n",
    "        \"id\": \"100003\",\n",
    "        \"student\": \"Marie Curie\",\n",
    "        \"coffee_preference\": \"light\",\n",
    "        \"course\": \"web development\",\n",
    "        \"grades\": [70, 89, 69, 65],\n",
    "        \"pets\": [{\"species\": \"cat\", \"age\": 0}],\n",
    "    },\n",
    "    {\n",
    "        \"id\": \"100004\",\n",
    "        \"student\": \"Grace Hopper\",\n",
    "        \"coffee_preference\": \"dark\",\n",
    "        \"course\": \"data science\",\n",
    "        \"grades\": [73, 66, 83, 92],\n",
    "        \"pets\": [{\"species\": \"dog\", \"age\": 4}, {\"species\": \"cat\", \"age\": 4}],\n",
    "    },\n",
    "    {\n",
    "        \"id\": \"100005\",\n",
    "        \"student\": \"Alan Turing\",\n",
    "        \"coffee_preference\": \"dark\",\n",
    "        \"course\": \"web development\",\n",
    "        \"grades\": [78, 98, 85, 65],\n",
    "        \"pets\": [\n",
    "            {\"species\": \"horse\", \"age\": 6},\n",
    "            {\"species\": \"horse\", \"age\": 7},\n",
    "            {\"species\": \"dog\", \"age\": 5},\n",
    "        ],\n",
    "    },\n",
    "    {\n",
    "        \"id\": \"100006\",\n",
    "        \"student\": \"Rosalind Franklin\",\n",
    "        \"coffee_preference\": \"dark\",\n",
    "        \"course\": \"data science\",\n",
    "        \"grades\": [76, 70, 96, 81],\n",
    "        \"pets\": [],\n",
    "    },\n",
    "    {\n",
    "        \"id\": \"100007\",\n",
    "        \"student\": \"Elizabeth Blackwell\",\n",
    "        \"coffee_preference\": \"dark\",\n",
    "        \"course\": \"web development\",\n",
    "        \"grades\": [69, 94, 89, 86],\n",
    "        \"pets\": [{\"species\": \"cat\", \"age\": 10}],\n",
    "    },\n",
    "    {\n",
    "        \"id\": \"100008\",\n",
    "        \"student\": \"Rene Descartes\",\n",
    "        \"coffee_preference\": \"medium\",\n",
    "        \"course\": \"data science\",\n",
    "        \"grades\": [87, 79, 90, 99],\n",
    "        \"pets\": [{\"species\": \"cat\", \"age\": 10}, {\"species\": \"cat\", \"age\": 8}],\n",
    "    },\n",
    "    {\n",
    "        \"id\": \"100009\",\n",
    "        \"student\": \"Ahmed Zewail\",\n",
    "        \"coffee_preference\": \"medium\",\n",
    "        \"course\": \"data science\",\n",
    "        \"grades\": [74, 99, 93, 89],\n",
    "        \"pets\": [{\"species\": \"cat\", \"age\": 0}, {\"species\": \"cat\", \"age\": 0}],\n",
    "    },\n",
    "    {\n",
    "        \"id\": \"100010\",\n",
    "        \"student\": \"Chien-Shiung Wu\",\n",
    "        \"coffee_preference\": \"medium\",\n",
    "        \"course\": \"web development\",\n",
    "        \"grades\": [82, 92, 91, 65],\n",
    "        \"pets\": [{\"species\": \"cat\", \"age\": 8}],\n",
    "    },\n",
    "    {\n",
    "        \"id\": \"100011\",\n",
    "        \"student\": \"William Sanford Nye\",\n",
    "        \"coffee_preference\": \"dark\",\n",
    "        \"course\": \"data science\",\n",
    "        \"grades\": [70, 92, 65, 99],\n",
    "        \"pets\": [{\"species\": \"cat\", \"age\": 8}, {\"species\": \"cat\", \"age\": 5}],\n",
    "    },\n",
    "    {\n",
    "        \"id\": \"100012\",\n",
    "        \"student\": \"Carl Sagan\",\n",
    "        \"coffee_preference\": \"medium\",\n",
    "        \"course\": \"data science\",\n",
    "        \"grades\": [100, 86, 91, 87],\n",
    "        \"pets\": [{\"species\": \"cat\", \"age\": 10}],\n",
    "    },\n",
    "    {\n",
    "        \"id\": \"100013\",\n",
    "        \"student\": \"Jane Goodall\",\n",
    "        \"coffee_preference\": \"light\",\n",
    "        \"course\": \"web development\",\n",
    "        \"grades\": [80, 70, 68, 98],\n",
    "        \"pets\": [{\"species\": \"horse\", \"age\": 4}],\n",
    "    },\n",
    "    {\n",
    "        \"id\": \"100014\",\n",
    "        \"student\": \"Richard Feynman\",\n",
    "        \"coffee_preference\": \"medium\",\n",
    "        \"course\": \"web development\",\n",
    "        \"grades\": [73, 99, 86, 98],\n",
    "        \"pets\": [{\"species\": \"dog\", \"age\": 6}],\n",
    "    },\n",
    "]"
   ]
  },
  {
   "cell_type": "markdown",
   "id": "0ff51d46",
   "metadata": {},
   "source": [
    "### - How many students are there?\n",
    "\n"
   ]
  },
  {
   "cell_type": "code",
   "execution_count": 57,
   "id": "b70947c3",
   "metadata": {},
   "outputs": [
    {
     "data": {
      "text/plain": [
       "14"
      ]
     },
     "execution_count": 57,
     "metadata": {},
     "output_type": "execute_result"
    }
   ],
   "source": [
    "len(students)"
   ]
  },
  {
   "cell_type": "markdown",
   "id": "05799652",
   "metadata": {},
   "source": [
    "### - How many students prefer light coffee? For each type of coffee roast?\n",
    "\n"
   ]
  },
  {
   "cell_type": "code",
   "execution_count": 58,
   "id": "1c027764",
   "metadata": {},
   "outputs": [
    {
     "data": {
      "text/plain": [
       "['light',\n",
       " 'medium',\n",
       " 'light',\n",
       " 'dark',\n",
       " 'dark',\n",
       " 'dark',\n",
       " 'dark',\n",
       " 'medium',\n",
       " 'medium',\n",
       " 'medium',\n",
       " 'dark',\n",
       " 'medium',\n",
       " 'light',\n",
       " 'medium']"
      ]
     },
     "execution_count": 58,
     "metadata": {},
     "output_type": "execute_result"
    }
   ],
   "source": [
    "list = []\n",
    "for student in students:\n",
    "    list.append(student['coffee_preference'])\n",
    "list    "
   ]
  },
  {
   "cell_type": "code",
   "execution_count": 59,
   "id": "e7e86d0d",
   "metadata": {},
   "outputs": [
    {
     "name": "stdout",
     "output_type": "stream",
     "text": [
      "light 3\n",
      "medium 6\n",
      "light 3\n",
      "dark 5\n",
      "dark 5\n",
      "dark 5\n",
      "dark 5\n",
      "medium 6\n",
      "medium 6\n",
      "medium 6\n",
      "dark 5\n",
      "medium 6\n",
      "light 3\n",
      "medium 6\n"
     ]
    }
   ],
   "source": [
    "for item in list: #this almost gets us there, but is returning the count through and through the list\n",
    "    print(item, list.count(item)) #therefore, the set is required\n",
    "#also, this step was completely unecessary tbh"
   ]
  },
  {
   "cell_type": "code",
   "execution_count": 60,
   "id": "8ea329c9",
   "metadata": {},
   "outputs": [
    {
     "data": {
      "text/plain": [
       "{'dark', 'light', 'medium'}"
      ]
     },
     "execution_count": 60,
     "metadata": {},
     "output_type": "execute_result"
    }
   ],
   "source": [
    "list_set = set(list)\n",
    "list_set"
   ]
  },
  {
   "cell_type": "code",
   "execution_count": 61,
   "id": "241697ea",
   "metadata": {},
   "outputs": [
    {
     "data": {
      "text/plain": [
       "3"
      ]
     },
     "execution_count": 61,
     "metadata": {},
     "output_type": "execute_result"
    }
   ],
   "source": [
    "list.count('light')"
   ]
  },
  {
   "cell_type": "code",
   "execution_count": 62,
   "id": "bb53e02b",
   "metadata": {},
   "outputs": [
    {
     "name": "stdout",
     "output_type": "stream",
     "text": [
      "dark 5\n",
      "light 3\n",
      "medium 6\n"
     ]
    }
   ],
   "source": [
    "for item in list_set:\n",
    "    print(item, list.count(item)) #the .count() is working on the LIST\n",
    "#WHEREAS the for loop is working in the SET only.  otherwise you get the result seen above"
   ]
  },
  {
   "cell_type": "markdown",
   "id": "d5e8ba26",
   "metadata": {},
   "source": [
    "### - How many types of each pet are there?\n",
    "\n"
   ]
  },
  {
   "cell_type": "markdown",
   "id": "3f21ddaf",
   "metadata": {},
   "source": [
    "    {\n",
    "        \"id\": \"100014\",\n",
    "        \"student\": \"Richard Feynman\",\n",
    "        \"coffee_preference\": \"medium\",\n",
    "        \"course\": \"web development\",\n",
    "        \"grades\": [73, 99, 86, 98],\n",
    "        \"pets\": [{\"species\": \"dog\", \"age\": 6}],\n",
    "    },"
   ]
  },
  {
   "cell_type": "code",
   "execution_count": 63,
   "id": "eea27e25",
   "metadata": {},
   "outputs": [
    {
     "data": {
      "text/plain": [
       "[[{'species': 'horse', 'age': 8}],\n",
       " [{'species': 'horse', 'age': 8}],\n",
       " [{'species': 'horse', 'age': 8}],\n",
       " [{'species': 'horse', 'age': 8}],\n",
       " [{'species': 'horse', 'age': 8}],\n",
       " [{'species': 'horse', 'age': 8}],\n",
       " [],\n",
       " [],\n",
       " [],\n",
       " [],\n",
       " [],\n",
       " [],\n",
       " [{'species': 'cat', 'age': 0}],\n",
       " [{'species': 'cat', 'age': 0}],\n",
       " [{'species': 'cat', 'age': 0}],\n",
       " [{'species': 'cat', 'age': 0}],\n",
       " [{'species': 'cat', 'age': 0}],\n",
       " [{'species': 'cat', 'age': 0}],\n",
       " [{'species': 'dog', 'age': 4}, {'species': 'cat', 'age': 4}],\n",
       " [{'species': 'dog', 'age': 4}, {'species': 'cat', 'age': 4}],\n",
       " [{'species': 'dog', 'age': 4}, {'species': 'cat', 'age': 4}],\n",
       " [{'species': 'dog', 'age': 4}, {'species': 'cat', 'age': 4}],\n",
       " [{'species': 'dog', 'age': 4}, {'species': 'cat', 'age': 4}],\n",
       " [{'species': 'dog', 'age': 4}, {'species': 'cat', 'age': 4}],\n",
       " [{'species': 'horse', 'age': 6},\n",
       "  {'species': 'horse', 'age': 7},\n",
       "  {'species': 'dog', 'age': 5}],\n",
       " [{'species': 'horse', 'age': 6},\n",
       "  {'species': 'horse', 'age': 7},\n",
       "  {'species': 'dog', 'age': 5}],\n",
       " [{'species': 'horse', 'age': 6},\n",
       "  {'species': 'horse', 'age': 7},\n",
       "  {'species': 'dog', 'age': 5}],\n",
       " [{'species': 'horse', 'age': 6},\n",
       "  {'species': 'horse', 'age': 7},\n",
       "  {'species': 'dog', 'age': 5}],\n",
       " [{'species': 'horse', 'age': 6},\n",
       "  {'species': 'horse', 'age': 7},\n",
       "  {'species': 'dog', 'age': 5}],\n",
       " [{'species': 'horse', 'age': 6},\n",
       "  {'species': 'horse', 'age': 7},\n",
       "  {'species': 'dog', 'age': 5}],\n",
       " [],\n",
       " [],\n",
       " [],\n",
       " [],\n",
       " [],\n",
       " [],\n",
       " [{'species': 'cat', 'age': 10}],\n",
       " [{'species': 'cat', 'age': 10}],\n",
       " [{'species': 'cat', 'age': 10}],\n",
       " [{'species': 'cat', 'age': 10}],\n",
       " [{'species': 'cat', 'age': 10}],\n",
       " [{'species': 'cat', 'age': 10}],\n",
       " [{'species': 'cat', 'age': 10}, {'species': 'cat', 'age': 8}],\n",
       " [{'species': 'cat', 'age': 10}, {'species': 'cat', 'age': 8}],\n",
       " [{'species': 'cat', 'age': 10}, {'species': 'cat', 'age': 8}],\n",
       " [{'species': 'cat', 'age': 10}, {'species': 'cat', 'age': 8}],\n",
       " [{'species': 'cat', 'age': 10}, {'species': 'cat', 'age': 8}],\n",
       " [{'species': 'cat', 'age': 10}, {'species': 'cat', 'age': 8}],\n",
       " [{'species': 'cat', 'age': 0}, {'species': 'cat', 'age': 0}],\n",
       " [{'species': 'cat', 'age': 0}, {'species': 'cat', 'age': 0}],\n",
       " [{'species': 'cat', 'age': 0}, {'species': 'cat', 'age': 0}],\n",
       " [{'species': 'cat', 'age': 0}, {'species': 'cat', 'age': 0}],\n",
       " [{'species': 'cat', 'age': 0}, {'species': 'cat', 'age': 0}],\n",
       " [{'species': 'cat', 'age': 0}, {'species': 'cat', 'age': 0}],\n",
       " [{'species': 'cat', 'age': 8}],\n",
       " [{'species': 'cat', 'age': 8}],\n",
       " [{'species': 'cat', 'age': 8}],\n",
       " [{'species': 'cat', 'age': 8}],\n",
       " [{'species': 'cat', 'age': 8}],\n",
       " [{'species': 'cat', 'age': 8}],\n",
       " [{'species': 'cat', 'age': 8}, {'species': 'cat', 'age': 5}],\n",
       " [{'species': 'cat', 'age': 8}, {'species': 'cat', 'age': 5}],\n",
       " [{'species': 'cat', 'age': 8}, {'species': 'cat', 'age': 5}],\n",
       " [{'species': 'cat', 'age': 8}, {'species': 'cat', 'age': 5}],\n",
       " [{'species': 'cat', 'age': 8}, {'species': 'cat', 'age': 5}],\n",
       " [{'species': 'cat', 'age': 8}, {'species': 'cat', 'age': 5}],\n",
       " [{'species': 'cat', 'age': 10}],\n",
       " [{'species': 'cat', 'age': 10}],\n",
       " [{'species': 'cat', 'age': 10}],\n",
       " [{'species': 'cat', 'age': 10}],\n",
       " [{'species': 'cat', 'age': 10}],\n",
       " [{'species': 'cat', 'age': 10}],\n",
       " [{'species': 'horse', 'age': 4}],\n",
       " [{'species': 'horse', 'age': 4}],\n",
       " [{'species': 'horse', 'age': 4}],\n",
       " [{'species': 'horse', 'age': 4}],\n",
       " [{'species': 'horse', 'age': 4}],\n",
       " [{'species': 'horse', 'age': 4}],\n",
       " [{'species': 'dog', 'age': 6}],\n",
       " [{'species': 'dog', 'age': 6}],\n",
       " [{'species': 'dog', 'age': 6}],\n",
       " [{'species': 'dog', 'age': 6}],\n",
       " [{'species': 'dog', 'age': 6}],\n",
       " [{'species': 'dog', 'age': 6}]]"
      ]
     },
     "execution_count": 63,
     "metadata": {},
     "output_type": "execute_result"
    }
   ],
   "source": [
    "pets_list = []\n",
    "for student in students:\n",
    "    for pet in student:\n",
    "        pets_list.append(student['pets'])\n",
    "#     print(student['pets'])\n",
    "pets_list\n",
    "#nope.  but forward progress"
   ]
  },
  {
   "cell_type": "code",
   "execution_count": 64,
   "id": "b014c9ed",
   "metadata": {},
   "outputs": [],
   "source": [
    "#step 1; blow off the loop\n",
    "#2 make a single variable that holds the first element of the list\n",
    "#3 figure out what we need to do on that 1 element\n"
   ]
  },
  {
   "cell_type": "code",
   "execution_count": 65,
   "id": "2c73fd89",
   "metadata": {},
   "outputs": [
    {
     "data": {
      "text/plain": [
       "{'id': '100004',\n",
       " 'student': 'Grace Hopper',\n",
       " 'coffee_preference': 'dark',\n",
       " 'course': 'data science',\n",
       " 'grades': [73, 66, 83, 92],\n",
       " 'pets': [{'species': 'dog', 'age': 4}, {'species': 'cat', 'age': 4}]}"
      ]
     },
     "execution_count": 65,
     "metadata": {},
     "output_type": "execute_result"
    }
   ],
   "source": [
    "student = students[3]\n",
    "student"
   ]
  },
  {
   "cell_type": "code",
   "execution_count": 66,
   "id": "e1fa6653",
   "metadata": {},
   "outputs": [],
   "source": [
    "#this is step 3 now"
   ]
  },
  {
   "cell_type": "code",
   "execution_count": 67,
   "id": "c5be2ccd",
   "metadata": {},
   "outputs": [
    {
     "data": {
      "text/plain": [
       "[{'species': 'dog', 'age': 4}, {'species': 'cat', 'age': 4}]"
      ]
     },
     "execution_count": 67,
     "metadata": {},
     "output_type": "execute_result"
    }
   ],
   "source": [
    "pets = student['pets']\n",
    "pets"
   ]
  },
  {
   "cell_type": "code",
   "execution_count": 68,
   "id": "034069f1",
   "metadata": {},
   "outputs": [
    {
     "data": {
      "text/plain": [
       "['dog', 'cat']"
      ]
     },
     "execution_count": 68,
     "metadata": {},
     "output_type": "execute_result"
    }
   ],
   "source": [
    "#for each pet, append the specis string to a list of species\n",
    "species = []\n",
    "for pet in pets:\n",
    "    species.append(pet['species'])\n",
    "species"
   ]
  },
  {
   "cell_type": "code",
   "execution_count": 69,
   "id": "708e4d6d",
   "metadata": {},
   "outputs": [],
   "source": [
    "#magic...bring back the og loop and copy paste the above work into it"
   ]
  },
  {
   "cell_type": "code",
   "execution_count": 70,
   "id": "ef50a529",
   "metadata": {},
   "outputs": [
    {
     "data": {
      "text/plain": [
       "['horse',\n",
       " 'cat',\n",
       " 'dog',\n",
       " 'cat',\n",
       " 'horse',\n",
       " 'horse',\n",
       " 'dog',\n",
       " 'cat',\n",
       " 'cat',\n",
       " 'cat',\n",
       " 'cat',\n",
       " 'cat',\n",
       " 'cat',\n",
       " 'cat',\n",
       " 'cat',\n",
       " 'cat',\n",
       " 'horse',\n",
       " 'dog']"
      ]
     },
     "execution_count": 70,
     "metadata": {},
     "output_type": "execute_result"
    }
   ],
   "source": [
    "species = []\n",
    "for student in students:\n",
    "    pets = student['pets']\n",
    "    for pet in pets:\n",
    "        species.append(pet['species'])\n",
    "        \n",
    "species"
   ]
  },
  {
   "cell_type": "code",
   "execution_count": 71,
   "id": "25dd0b56",
   "metadata": {},
   "outputs": [],
   "source": [
    "import pandas as pd"
   ]
  },
  {
   "cell_type": "code",
   "execution_count": 72,
   "id": "9945c2d9",
   "metadata": {},
   "outputs": [],
   "source": [
    "# species = pd.Series(species)\n",
    "# species.value_counts()\n",
    "#this code ^^ works great but redefines the species variable. \n",
    "#for practice sake, i did it the hard way below:"
   ]
  },
  {
   "cell_type": "code",
   "execution_count": 73,
   "id": "a9c8b637",
   "metadata": {},
   "outputs": [
    {
     "data": {
      "text/plain": [
       "{'cat', 'dog', 'horse'}"
      ]
     },
     "execution_count": 73,
     "metadata": {},
     "output_type": "execute_result"
    }
   ],
   "source": [
    "species_set = set(species)\n",
    "species_set"
   ]
  },
  {
   "cell_type": "code",
   "execution_count": 74,
   "id": "688dfb2f",
   "metadata": {},
   "outputs": [
    {
     "name": "stdout",
     "output_type": "stream",
     "text": [
      "cat 11\n",
      "dog 3\n",
      "horse 4\n"
     ]
    }
   ],
   "source": [
    "for x in species_set:\n",
    "    print(x, species.count(x))"
   ]
  },
  {
   "cell_type": "markdown",
   "id": "bc76e1ae",
   "metadata": {},
   "source": [
    "### - How many grades does each student have? Do they all have the same number of grades?\n"
   ]
  },
  {
   "cell_type": "code",
   "execution_count": 75,
   "id": "14a9844d",
   "metadata": {},
   "outputs": [
    {
     "data": {
      "text/plain": [
       "{'id': '100014',\n",
       " 'student': 'Richard Feynman',\n",
       " 'coffee_preference': 'medium',\n",
       " 'course': 'web development',\n",
       " 'grades': [73, 99, 86, 98],\n",
       " 'pets': [{'species': 'dog', 'age': 6}]}"
      ]
     },
     "execution_count": 75,
     "metadata": {},
     "output_type": "execute_result"
    }
   ],
   "source": [
    "student"
   ]
  },
  {
   "cell_type": "code",
   "execution_count": 76,
   "id": "68217924",
   "metadata": {},
   "outputs": [
    {
     "data": {
      "text/plain": [
       "[73, 99, 86, 98]"
      ]
     },
     "execution_count": 76,
     "metadata": {},
     "output_type": "execute_result"
    }
   ],
   "source": [
    "grades = student['grades']\n",
    "grades"
   ]
  },
  {
   "cell_type": "code",
   "execution_count": 77,
   "id": "bc1e9ca7",
   "metadata": {},
   "outputs": [
    {
     "data": {
      "text/plain": [
       "[4, 4, 4, 4, 4, 4, 4, 4, 4, 4, 4, 4, 4, 4]"
      ]
     },
     "execution_count": 77,
     "metadata": {},
     "output_type": "execute_result"
    }
   ],
   "source": [
    "# grades_list = []\n",
    "# for student in students:\n",
    "#     grades = student['grades']\n",
    "#     for grade in grades:\n",
    "#         grades_list.append(student['grades'])\n",
    "# grades_list\n",
    "##################you've got one loop too many or something##################\n",
    "\n",
    "grades_list = []\n",
    "for student in students:\n",
    "    grades_list.append(student['grades'])\n",
    "grades_list\n",
    "\n",
    "grades_list_len = []\n",
    "for x in grades_list:\n",
    "    grades_list_len.append(len(x))\n",
    "grades_list_len"
   ]
  },
  {
   "cell_type": "markdown",
   "id": "086deae1",
   "metadata": {},
   "source": [
    "### - What is each student's grade average?\n"
   ]
  },
  {
   "cell_type": "code",
   "execution_count": 78,
   "id": "66cded46",
   "metadata": {},
   "outputs": [
    {
     "data": {
      "text/plain": [
       "[[70, 91, 82, 71],\n",
       " [75, 73, 86, 100],\n",
       " [70, 89, 69, 65],\n",
       " [73, 66, 83, 92],\n",
       " [78, 98, 85, 65],\n",
       " [76, 70, 96, 81],\n",
       " [69, 94, 89, 86],\n",
       " [87, 79, 90, 99],\n",
       " [74, 99, 93, 89],\n",
       " [82, 92, 91, 65],\n",
       " [70, 92, 65, 99],\n",
       " [100, 86, 91, 87],\n",
       " [80, 70, 68, 98],\n",
       " [73, 99, 86, 98]]"
      ]
     },
     "execution_count": 78,
     "metadata": {},
     "output_type": "execute_result"
    }
   ],
   "source": [
    "grades_list"
   ]
  },
  {
   "cell_type": "code",
   "execution_count": 79,
   "id": "01534791",
   "metadata": {},
   "outputs": [
    {
     "data": {
      "text/plain": [
       "[78.5,\n",
       " 83.5,\n",
       " 73.25,\n",
       " 78.5,\n",
       " 81.5,\n",
       " 80.75,\n",
       " 84.5,\n",
       " 88.75,\n",
       " 88.75,\n",
       " 82.5,\n",
       " 81.5,\n",
       " 91.0,\n",
       " 79.0,\n",
       " 89.0]"
      ]
     },
     "execution_count": 79,
     "metadata": {},
     "output_type": "execute_result"
    }
   ],
   "source": [
    "student_avg = []\n",
    "for x in grades_list:\n",
    "    student_avg.append(sum(x)/len(x))\n",
    "student_avg"
   ]
  },
  {
   "cell_type": "markdown",
   "id": "6dc1b911",
   "metadata": {},
   "source": [
    "### - How many pets does each student have?\n"
   ]
  },
  {
   "cell_type": "code",
   "execution_count": 80,
   "id": "290a581d",
   "metadata": {},
   "outputs": [
    {
     "data": {
      "text/plain": [
       "{'id': '100004',\n",
       " 'student': 'Grace Hopper',\n",
       " 'coffee_preference': 'dark',\n",
       " 'course': 'data science',\n",
       " 'grades': [73, 66, 83, 92],\n",
       " 'pets': [{'species': 'dog', 'age': 4}, {'species': 'cat', 'age': 4}]}"
      ]
     },
     "execution_count": 80,
     "metadata": {},
     "output_type": "execute_result"
    }
   ],
   "source": [
    "student = students[3]\n",
    "student"
   ]
  },
  {
   "cell_type": "code",
   "execution_count": 81,
   "id": "8b02becd",
   "metadata": {},
   "outputs": [
    {
     "data": {
      "text/plain": [
       "2"
      ]
     },
     "execution_count": 81,
     "metadata": {},
     "output_type": "execute_result"
    }
   ],
   "source": [
    "num_pets = len(student['pets'])\n",
    "num_pets"
   ]
  },
  {
   "cell_type": "code",
   "execution_count": 82,
   "id": "cf5c43d8",
   "metadata": {},
   "outputs": [
    {
     "name": "stdout",
     "output_type": "stream",
     "text": [
      "Ada Lovelace has 1 pets\n",
      "Thomas Bayes has 0 pets\n",
      "Marie Curie has 1 pets\n",
      "Grace Hopper has 2 pets\n",
      "Alan Turing has 3 pets\n",
      "Rosalind Franklin has 0 pets\n",
      "Elizabeth Blackwell has 1 pets\n",
      "Rene Descartes has 2 pets\n",
      "Ahmed Zewail has 2 pets\n",
      "Chien-Shiung Wu has 1 pets\n",
      "William Sanford Nye has 2 pets\n",
      "Carl Sagan has 1 pets\n",
      "Jane Goodall has 1 pets\n",
      "Richard Feynman has 1 pets\n"
     ]
    }
   ],
   "source": [
    "for student in students:\n",
    "    print(f\"{student['student']} has {len(student['pets'])} pets\")"
   ]
  },
  {
   "cell_type": "code",
   "execution_count": 83,
   "id": "020410eb",
   "metadata": {},
   "outputs": [
    {
     "data": {
      "text/plain": [
       "[1, 0, 1, 2, 3, 0, 1, 2, 2, 1, 2, 1, 1, 1]"
      ]
     },
     "execution_count": 83,
     "metadata": {},
     "output_type": "execute_result"
    }
   ],
   "source": [
    "test_list = []\n",
    "for student in students:\n",
    "    test_list.append(len(student['pets']))\n",
    "test_list\n",
    "#just confirming that I'm not an idiot. completely."
   ]
  },
  {
   "cell_type": "markdown",
   "id": "6be8ff36",
   "metadata": {},
   "source": [
    "### - How many students are in web development? data science?\n"
   ]
  },
  {
   "cell_type": "code",
   "execution_count": 84,
   "id": "169c26fc",
   "metadata": {},
   "outputs": [
    {
     "data": {
      "text/plain": [
       "{'id': '100014',\n",
       " 'student': 'Richard Feynman',\n",
       " 'coffee_preference': 'medium',\n",
       " 'course': 'web development',\n",
       " 'grades': [73, 99, 86, 98],\n",
       " 'pets': [{'species': 'dog', 'age': 6}]}"
      ]
     },
     "execution_count": 84,
     "metadata": {},
     "output_type": "execute_result"
    }
   ],
   "source": [
    "student"
   ]
  },
  {
   "cell_type": "code",
   "execution_count": 85,
   "id": "529e092f",
   "metadata": {},
   "outputs": [
    {
     "data": {
      "text/plain": [
       "'web development'"
      ]
     },
     "execution_count": 85,
     "metadata": {},
     "output_type": "execute_result"
    }
   ],
   "source": [
    "student_class = student['course']\n",
    "student_class"
   ]
  },
  {
   "cell_type": "code",
   "execution_count": 86,
   "id": "8e807ce5",
   "metadata": {},
   "outputs": [
    {
     "data": {
      "text/plain": [
       "['web development',\n",
       " 'data science',\n",
       " 'web development',\n",
       " 'data science',\n",
       " 'web development',\n",
       " 'data science',\n",
       " 'web development',\n",
       " 'data science',\n",
       " 'data science',\n",
       " 'web development',\n",
       " 'data science',\n",
       " 'data science',\n",
       " 'web development',\n",
       " 'web development']"
      ]
     },
     "execution_count": 86,
     "metadata": {},
     "output_type": "execute_result"
    }
   ],
   "source": [
    "class_list = []\n",
    "for student in students:\n",
    "    class_list.append(student['course'])\n",
    "class_list"
   ]
  },
  {
   "cell_type": "code",
   "execution_count": 87,
   "id": "484d4f51",
   "metadata": {},
   "outputs": [
    {
     "data": {
      "text/plain": [
       "{'data science', 'web development'}"
      ]
     },
     "execution_count": 87,
     "metadata": {},
     "output_type": "execute_result"
    }
   ],
   "source": [
    "class_list_set = set(class_list)\n",
    "class_list_set"
   ]
  },
  {
   "cell_type": "code",
   "execution_count": 88,
   "id": "3ed2e31a",
   "metadata": {},
   "outputs": [
    {
     "data": {
      "text/plain": [
       "[7, 7]"
      ]
     },
     "execution_count": 88,
     "metadata": {},
     "output_type": "execute_result"
    }
   ],
   "source": [
    "class_list_count = []\n",
    "for x in class_list_set:\n",
    "    class_list_count.append(class_list.count(x))\n",
    "class_list_count\n"
   ]
  },
  {
   "cell_type": "code",
   "execution_count": 89,
   "id": "5baebcf6",
   "metadata": {},
   "outputs": [],
   "source": [
    "#print(f\"There are {class_list_count[0]} students in the {list(class_list_set)[0]} course\")\n",
    "#i'd love to get this into a function-style return"
   ]
  },
  {
   "cell_type": "markdown",
   "id": "b67199a7",
   "metadata": {},
   "source": [
    "### - What is the average number of pets for students in web development?\n"
   ]
  },
  {
   "cell_type": "code",
   "execution_count": 90,
   "id": "86941474",
   "metadata": {},
   "outputs": [
    {
     "data": {
      "text/plain": [
       "[{'species': 'dog', 'age': 6}]"
      ]
     },
     "execution_count": 90,
     "metadata": {},
     "output_type": "execute_result"
    }
   ],
   "source": [
    "student['pets']"
   ]
  },
  {
   "cell_type": "code",
   "execution_count": 91,
   "id": "208b7acd",
   "metadata": {},
   "outputs": [
    {
     "name": "stdout",
     "output_type": "stream",
     "text": [
      "Ada Lovelace has 1 pets\n",
      "Marie Curie has 1 pets\n",
      "Alan Turing has 3 pets\n",
      "Elizabeth Blackwell has 1 pets\n",
      "Chien-Shiung Wu has 1 pets\n",
      "Jane Goodall has 1 pets\n",
      "Richard Feynman has 1 pets\n"
     ]
    }
   ],
   "source": [
    "for student in students:\n",
    "    if student['course'] == 'web development':\n",
    "        print(f\"{student['student']} has {len(student['pets'])} pets\")"
   ]
  },
  {
   "cell_type": "code",
   "execution_count": 92,
   "id": "764af297",
   "metadata": {},
   "outputs": [
    {
     "data": {
      "text/plain": [
       "9"
      ]
     },
     "execution_count": 92,
     "metadata": {},
     "output_type": "execute_result"
    }
   ],
   "source": [
    "web_dev_pet_count = 0\n",
    "for student in students:\n",
    "    if student['course'] == 'web development':\n",
    "        web_dev_pet_count += len(student['pets'])\n",
    "web_dev_pet_count"
   ]
  },
  {
   "cell_type": "code",
   "execution_count": 93,
   "id": "093dd3c8",
   "metadata": {},
   "outputs": [
    {
     "data": {
      "text/plain": [
       "['web development',\n",
       " 'web development',\n",
       " 'web development',\n",
       " 'web development',\n",
       " 'web development',\n",
       " 'web development',\n",
       " 'web development']"
      ]
     },
     "execution_count": 93,
     "metadata": {},
     "output_type": "execute_result"
    }
   ],
   "source": [
    "web_dev_students = []\n",
    "for student in students:\n",
    "    if student['course'] == 'web development':\n",
    "        web_dev_students.append(student['course'])\n",
    "web_dev_students\n",
    "    \n",
    "# class_list = []\n",
    "# for student in students:\n",
    "#     class_list.append(student['course'])\n",
    "# class_list"
   ]
  },
  {
   "cell_type": "code",
   "execution_count": 94,
   "id": "199e265e",
   "metadata": {},
   "outputs": [
    {
     "data": {
      "text/plain": [
       "1.2857142857142858"
      ]
     },
     "execution_count": 94,
     "metadata": {},
     "output_type": "execute_result"
    }
   ],
   "source": [
    "web_dev_pet_count / len(web_dev_students)\n",
    "#NOICE"
   ]
  },
  {
   "cell_type": "code",
   "execution_count": 95,
   "id": "6ca64668",
   "metadata": {},
   "outputs": [],
   "source": [
    "wds = [student['course'] for student in students if student['course'] == 'web development']"
   ]
  },
  {
   "cell_type": "code",
   "execution_count": 96,
   "id": "5b26a657",
   "metadata": {},
   "outputs": [
    {
     "data": {
      "text/plain": [
       "['web development',\n",
       " 'web development',\n",
       " 'web development',\n",
       " 'web development',\n",
       " 'web development',\n",
       " 'web development',\n",
       " 'web development']"
      ]
     },
     "execution_count": 96,
     "metadata": {},
     "output_type": "execute_result"
    }
   ],
   "source": [
    "wds\n",
    "#just double-checking my list comprehension skills\n",
    "#this would be problematic if there were a list or dictionary of courses at this index"
   ]
  },
  {
   "cell_type": "markdown",
   "id": "d181c0d7",
   "metadata": {},
   "source": [
    "### - What is the average pet age for students in data science?\n"
   ]
  },
  {
   "cell_type": "code",
   "execution_count": 97,
   "id": "b8a027c8",
   "metadata": {},
   "outputs": [
    {
     "data": {
      "text/plain": [
       "{'id': '100005',\n",
       " 'student': 'Alan Turing',\n",
       " 'coffee_preference': 'dark',\n",
       " 'course': 'web development',\n",
       " 'grades': [78, 98, 85, 65],\n",
       " 'pets': [{'species': 'horse', 'age': 6},\n",
       "  {'species': 'horse', 'age': 7},\n",
       "  {'species': 'dog', 'age': 5}]}"
      ]
     },
     "execution_count": 97,
     "metadata": {},
     "output_type": "execute_result"
    }
   ],
   "source": [
    "students[4]"
   ]
  },
  {
   "cell_type": "code",
   "execution_count": 98,
   "id": "7612914e",
   "metadata": {},
   "outputs": [
    {
     "data": {
      "text/plain": [
       "[{'species': 'dog', 'age': 6}]"
      ]
     },
     "execution_count": 98,
     "metadata": {},
     "output_type": "execute_result"
    }
   ],
   "source": [
    "student['pets']"
   ]
  },
  {
   "cell_type": "code",
   "execution_count": 99,
   "id": "390b8e61",
   "metadata": {},
   "outputs": [
    {
     "data": {
      "text/plain": [
       "6"
      ]
     },
     "execution_count": 99,
     "metadata": {},
     "output_type": "execute_result"
    }
   ],
   "source": [
    "student['pets'][0]['age']"
   ]
  },
  {
   "cell_type": "code",
   "execution_count": 100,
   "id": "45e0e08f",
   "metadata": {},
   "outputs": [
    {
     "data": {
      "text/plain": [
       "6"
      ]
     },
     "execution_count": 100,
     "metadata": {},
     "output_type": "execute_result"
    }
   ],
   "source": [
    "pet_age = student['pets'][0]['age']\n",
    "pet_age"
   ]
  },
  {
   "cell_type": "code",
   "execution_count": 103,
   "id": "55394a6a",
   "metadata": {},
   "outputs": [
    {
     "data": {
      "text/plain": [
       "[6, 6, 6, 6, 6, 6, 6, 6, 6, 6, 6, 6, 6, 6]"
      ]
     },
     "execution_count": 103,
     "metadata": {},
     "output_type": "execute_result"
    }
   ],
   "source": [
    "species = []\n",
    "pet_age_list = []\n",
    "for student in students:\n",
    "    for pet in pets:\n",
    "        pet_age_list.append(pet_age)\n",
    "        \n",
    "pet_age_list\n",
    "#nope"
   ]
  },
  {
   "cell_type": "code",
   "execution_count": 110,
   "id": "83c15441",
   "metadata": {},
   "outputs": [],
   "source": [
    "ds_students = [student for student in students if student['course'] == 'data science']\n",
    "wd_students = [student for student in students if student['course'] == 'web development']"
   ]
  },
  {
   "cell_type": "code",
   "execution_count": 111,
   "id": "c8444c0c",
   "metadata": {},
   "outputs": [
    {
     "data": {
      "text/plain": [
       "[4, 4, 10, 8, 0, 0, 8, 5, 10]"
      ]
     },
     "execution_count": 111,
     "metadata": {},
     "output_type": "execute_result"
    }
   ],
   "source": [
    "ds_pet_age_list = []\n",
    "i = 0\n",
    "for student in students:\n",
    "    if student in ds_students:\n",
    "        pets = student['pets']\n",
    "        for pet in pets:\n",
    "            pet_age = pet['age']\n",
    "            ds_pet_age_list.append(pet['age'])\n",
    "#         i += 1     \n",
    "#         if i == len(pet_age_list):\n",
    "#             break\n",
    "ds_pet_age_list"
   ]
  },
  {
   "cell_type": "code",
   "execution_count": 112,
   "id": "12eaefe4",
   "metadata": {},
   "outputs": [
    {
     "data": {
      "text/plain": [
       "5.444444444444445"
      ]
     },
     "execution_count": 112,
     "metadata": {},
     "output_type": "execute_result"
    }
   ],
   "source": [
    "avg_pet_age = sum(ds_pet_age_list)/len(ds_pet_age_list)\n",
    "avg_pet_age"
   ]
  },
  {
   "cell_type": "code",
   "execution_count": null,
   "id": "1a0816f4",
   "metadata": {},
   "outputs": [],
   "source": []
  },
  {
   "cell_type": "markdown",
   "id": "013c44c0",
   "metadata": {},
   "source": [
    "### - What is most frequent coffee preference for data science students?"
   ]
  },
  {
   "cell_type": "code",
   "execution_count": 113,
   "id": "06ff7a3f",
   "metadata": {},
   "outputs": [
    {
     "data": {
      "text/plain": [
       "['medium', 'dark', 'dark', 'medium', 'medium', 'dark', 'medium']"
      ]
     },
     "execution_count": 113,
     "metadata": {},
     "output_type": "execute_result"
    }
   ],
   "source": [
    "ds_coffee_list = []\n",
    "for student in students:\n",
    "    if student in ds_students:\n",
    "        ds_coffee_list.append(student['coffee_preference'])\n",
    "ds_coffee_list"
   ]
  },
  {
   "cell_type": "code",
   "execution_count": 114,
   "id": "73ec281d",
   "metadata": {},
   "outputs": [
    {
     "data": {
      "text/plain": [
       "{'dark', 'medium'}"
      ]
     },
     "execution_count": 114,
     "metadata": {},
     "output_type": "execute_result"
    }
   ],
   "source": [
    "ds_coffee_set = set(ds_coffee_list)\n",
    "ds_coffee_set"
   ]
  },
  {
   "cell_type": "code",
   "execution_count": 115,
   "id": "5428de89",
   "metadata": {},
   "outputs": [
    {
     "name": "stdout",
     "output_type": "stream",
     "text": [
      "dark 3\n",
      "medium 4\n"
     ]
    }
   ],
   "source": [
    "for item in ds_coffee_set:\n",
    "    print(item, ds_coffee_list.count(item))"
   ]
  },
  {
   "cell_type": "markdown",
   "id": "6809ab37",
   "metadata": {},
   "source": [
    "### - What is the least frequent coffee preference for web development students?"
   ]
  },
  {
   "cell_type": "code",
   "execution_count": 116,
   "id": "d0972223",
   "metadata": {},
   "outputs": [
    {
     "data": {
      "text/plain": [
       "['light', 'light', 'dark', 'dark', 'medium', 'light', 'medium']"
      ]
     },
     "execution_count": 116,
     "metadata": {},
     "output_type": "execute_result"
    }
   ],
   "source": [
    "wd_coffee_list = []\n",
    "for student in students:\n",
    "    if student in wd_students:\n",
    "        wd_coffee_list.append(student['coffee_preference'])\n",
    "wd_coffee_list"
   ]
  },
  {
   "cell_type": "code",
   "execution_count": 117,
   "id": "8901ce5d",
   "metadata": {},
   "outputs": [
    {
     "data": {
      "text/plain": [
       "{'dark', 'light', 'medium'}"
      ]
     },
     "execution_count": 117,
     "metadata": {},
     "output_type": "execute_result"
    }
   ],
   "source": [
    "wd_coffee_set = set(wd_coffee_list)\n",
    "wd_coffee_set"
   ]
  },
  {
   "cell_type": "code",
   "execution_count": 118,
   "id": "a2d6dce7",
   "metadata": {},
   "outputs": [
    {
     "name": "stdout",
     "output_type": "stream",
     "text": [
      "light 3\n",
      "dark 2\n",
      "medium 2\n"
     ]
    }
   ],
   "source": [
    "for item in wd_coffee_set:\n",
    "    print(item, wd_coffee_list.count(item))"
   ]
  },
  {
   "cell_type": "code",
   "execution_count": 118,
   "id": "3be78160",
   "metadata": {},
   "outputs": [
    {
     "name": "stdout",
     "output_type": "stream",
     "text": [
      "light 3\n",
      "dark 2\n",
      "medium 2\n"
     ]
    }
   ],
   "source": [
    "for item in wd_coffee_set:\n",
    "    print(item, wd_coffee_list.count(item))"
   ]
  },
  {
   "cell_type": "code",
   "execution_count": 139,
   "id": "54a931ab",
   "metadata": {},
   "outputs": [
    {
     "data": {
      "text/plain": [
       "'2 dark'"
      ]
     },
     "execution_count": 139,
     "metadata": {},
     "output_type": "execute_result"
    }
   ],
   "source": [
    "tp = []\n",
    "tptoo = []\n",
    "for x in wd_coffee_set:\n",
    "    tp.append(wd_coffee_list.count(x))\n",
    "    tptoo.append(x)\n",
    "tpindex = min(tp)\n",
    "str(min(tp)) + ' ' + wd_coffee_list[tpindex]\n",
    "#it was a long trip, but this got us there"
   ]
  },
  {
   "cell_type": "markdown",
   "id": "f4b1b10a",
   "metadata": {},
   "source": [
    "### - What is the average grade for students with at least 2 pets?"
   ]
  },
  {
   "cell_type": "markdown",
   "id": "043701e4",
   "metadata": {},
   "source": [
    "### - How many students have 3 pets?"
   ]
  },
  {
   "cell_type": "markdown",
   "id": "9770c465",
   "metadata": {},
   "source": [
    "### - What is the average grade for students with 0 pets?"
   ]
  },
  {
   "cell_type": "markdown",
   "id": "0401348f",
   "metadata": {},
   "source": [
    "### - What is the average grade for web development students? data science students?"
   ]
  },
  {
   "cell_type": "markdown",
   "id": "6a440acb",
   "metadata": {},
   "source": [
    "### - What is the average grade range (i.e. highest grade - lowest grade) for dark coffee drinkers?"
   ]
  },
  {
   "cell_type": "markdown",
   "id": "7deab6a5",
   "metadata": {},
   "source": [
    "### - What is the average number of pets for medium coffee drinkers?"
   ]
  },
  {
   "cell_type": "markdown",
   "id": "b87cf75d",
   "metadata": {},
   "source": [
    "### - What is the most common type of pet for web development students?"
   ]
  },
  {
   "cell_type": "markdown",
   "id": "6391c23f",
   "metadata": {},
   "source": [
    "### - What is the average name length?"
   ]
  },
  {
   "cell_type": "markdown",
   "id": "e42aee45",
   "metadata": {},
   "source": [
    "### - What is the highest pet age for light coffee drinkers?"
   ]
  },
  {
   "cell_type": "code",
   "execution_count": null,
   "id": "a7c16f07",
   "metadata": {},
   "outputs": [],
   "source": []
  }
 ],
 "metadata": {
  "kernelspec": {
   "display_name": "Python 3",
   "language": "python",
   "name": "python3"
  },
  "language_info": {
   "codemirror_mode": {
    "name": "ipython",
    "version": 3
   },
   "file_extension": ".py",
   "mimetype": "text/x-python",
   "name": "python",
   "nbconvert_exporter": "python",
   "pygments_lexer": "ipython3",
   "version": "3.8.8"
  }
 },
 "nbformat": 4,
 "nbformat_minor": 5
}
